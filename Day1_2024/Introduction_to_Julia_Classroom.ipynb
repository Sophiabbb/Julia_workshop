{
  "cells": [
    {
      "cell_type": "markdown",
      "metadata": {
        "id": "tQ1r1bbb0yBv"
      },
      "source": [
        "# <img src=\"https://github.com/JuliaLang/julia-logo-graphics/raw/master/images/julia-logo-color.png\" height=\"100\" /> _Colab Notebook Template_\n",
        "\n",
        "## Instructions\n",
        "1. Work on a copy of this notebook: _File_ > _Save a copy in Drive_ (you will need a Google account). Alternatively, you can download the notebook using _File_ > _Download .ipynb_, then upload it to [Colab](https://colab.research.google.com/).\n",
        "2. If you need a GPU: _Runtime_ > _Change runtime type_ > _Harware accelerator_ = _GPU_.\n",
        "3. Execute the following cell (click on it and press Ctrl+Enter) to install Julia, IJulia and other packages (if needed, update `JULIA_VERSION` and the other parameters). This takes a couple of minutes.\n",
        "4. Reload this page (press Ctrl+R, or ⌘+R, or the F5 key) and continue to the next section.\n",
        "\n",
        "_Notes_:\n",
        "* If your Colab Runtime gets reset (e.g., due to inactivity), repeat steps 2, 3 and 4.\n",
        "* After installation, if you want to change the Julia version or activate/deactivate the GPU, you will need to reset the Runtime: _Runtime_ > _Factory reset runtime_ and repeat steps 3 and 4."
      ]
    },
    {
      "cell_type": "code",
      "execution_count": null,
      "metadata": {
        "id": "GIeFXS0F0zww"
      },
      "outputs": [],
      "source": [
        "%%shell\n",
        "set -e\n",
        "\n",
        "#---------------------------------------------------#\n",
        "JULIA_VERSION=\"1.10.4\" # any version ≥ 0.7.0\n",
        "JULIA_PACKAGES=\"IJulia BenchmarkTools DataFrames CSV Query Plots GLM\"\n",
        "JULIA_PACKAGES_IF_GPU=\"CUDA\" # or CuArrays for older Julia versions\n",
        "JULIA_NUM_THREADS=2\n",
        "#---------------------------------------------------#\n",
        "\n",
        "if [ -z `which julia` ]; then\n",
        "  # Install Julia\n",
        "  JULIA_VER=`cut -d '.' -f -2 <<< \"$JULIA_VERSION\"`\n",
        "  echo \"Installing Julia $JULIA_VERSION on the current Colab Runtime...\"\n",
        "  BASE_URL=\"https://julialang-s3.julialang.org/bin/linux/x64\"\n",
        "  URL=\"$BASE_URL/$JULIA_VER/julia-$JULIA_VERSION-linux-x86_64.tar.gz\"\n",
        "  wget -nv $URL -O /tmp/julia.tar.gz # -nv means \"not verbose\"\n",
        "  tar -x -f /tmp/julia.tar.gz -C /usr/local --strip-components 1\n",
        "  rm /tmp/julia.tar.gz\n",
        "\n",
        "  # Install Packages\n",
        "  nvidia-smi -L &> /dev/null && export GPU=1 || export GPU=0\n",
        "  if [ $GPU -eq 1 ]; then\n",
        "    JULIA_PACKAGES=\"$JULIA_PACKAGES $JULIA_PACKAGES_IF_GPU\"\n",
        "  fi\n",
        "  for PKG in `echo $JULIA_PACKAGES`; do\n",
        "    echo \"Installing Julia package $PKG...\"\n",
        "    julia -e 'using Pkg; pkg\"add '$PKG'; precompile;\"' &> /dev/null\n",
        "  done\n",
        "\n",
        "  # Install kernel and rename it to \"julia\"\n",
        "  echo \"Installing IJulia kernel...\"\n",
        "  julia -e 'using IJulia; IJulia.installkernel(\"julia\", env=Dict(\n",
        "      \"JULIA_NUM_THREADS\"=>\"'\"$JULIA_NUM_THREADS\"'\"))'\n",
        "  KERNEL_DIR=`julia -e \"using IJulia; print(IJulia.kerneldir())\"`\n",
        "  KERNEL_NAME=`ls -d \"$KERNEL_DIR\"/julia*`\n",
        "  mv -f $KERNEL_NAME \"$KERNEL_DIR\"/julia\n",
        "\n",
        "  echo ''\n",
        "  echo \"Successfully installed `julia -v`!\"\n",
        "  echo \"Please reload this page (press Ctrl+R, ⌘+R, or the F5 key) then\"\n",
        "  echo \"jump to the 'Checking the Installation' section.\"\n",
        "fi"
      ]
    },
    {
      "cell_type": "markdown",
      "metadata": {
        "id": "-OS3Ac017T1i"
      },
      "source": [
        "# Checking the Installation\n",
        "The `versioninfo()` function should print your Julia version and some other info about the system:"
      ]
    },
    {
      "cell_type": "code",
      "execution_count": null,
      "metadata": {
        "id": "EEzvvzCl1i0F"
      },
      "outputs": [],
      "source": [
        "versioninfo()"
      ]
    },
    {
      "cell_type": "markdown",
      "source": [
        "# Runtime Differences Between Python and Julia"
      ],
      "metadata": {
        "id": "gR65DH09S7ig"
      }
    },
    {
      "cell_type": "code",
      "source": [
        "# Julia\n",
        "@time for i in 1:100\n",
        "    a = rand(1000, 1000)\n",
        "    b = rand(1000)\n",
        "    x = a \\ b\n",
        "end"
      ],
      "metadata": {
        "id": "vgXLd3wDuRYS"
      },
      "execution_count": null,
      "outputs": []
    },
    {
      "cell_type": "code",
      "execution_count": null,
      "metadata": {
        "id": "bRKgOy4at5-3"
      },
      "outputs": [],
      "source": [
        "# Python with NumPy\n",
        "import numpy as np\n",
        "from time import time\n",
        "\n",
        "\n",
        "\n",
        "start = time()\n",
        "for i in range(100):\n",
        "    a = np.random.rand(1000, 1000)\n",
        "    b = np.random.rand(1000)\n",
        "    x = np.linalg.solve(a, b)\n",
        "end = time()\n",
        "\n",
        "print(end - start)"
      ]
    },
    {
      "cell_type": "code",
      "source": [
        "# Python with Numba\n",
        "from numba import jit\n",
        "import numpy as np\n",
        "from time import time\n",
        "\n",
        "@jit(nopython=True)\n",
        "def solve_equation(a, b):\n",
        "    n = len(b)\n",
        "    x = np.empty(n)\n",
        "\n",
        "    for i in range(n):\n",
        "        x[i] = b[i] / a[i, i]\n",
        "        for j in range(i + 1, n):\n",
        "            b[j] -= a[j, i] * x[i]\n",
        "\n",
        "    for i in range(n - 1, -1, -1):\n",
        "        for j in range(i + 1, n):\n",
        "            x[i] -= a[i, j] * x[j]\n",
        "        x[i] /= a[i, i]\n",
        "\n",
        "    return x\n",
        "\n",
        "@jit(nopython=True)\n",
        "def run_code(x):\n",
        "    for i in range(x):\n",
        "        a = np.random.rand(1000, 1000)\n",
        "        b = np.random.rand(1000)\n",
        "        c = solve_equation(a, b)\n",
        "\n",
        "start = time()\n",
        "run_code(100)\n",
        "end = time()\n",
        "print((end - start), \"seconds\")"
      ],
      "metadata": {
        "id": "ZOvl3jrJucfN"
      },
      "execution_count": null,
      "outputs": []
    },
    {
      "cell_type": "markdown",
      "metadata": {
        "id": "1CNfi7ui5tb6"
      },
      "source": [
        "# Explanation of `methods` in Julia\n",
        "\n",
        "---\n",
        "\n",
        "\n",
        "\n",
        "The concept of multiple dispatch is something we use frequently but never really stop to contemplate.  Julia surfaces multiple dispatch in a concrete and easy fashion compared to operator overloading or templating."
      ]
    },
    {
      "cell_type": "code",
      "execution_count": null,
      "metadata": {
        "id": "0wn3pbbsM0KE"
      },
      "outputs": [],
      "source": [
        "f(a::Int64, b::Int64) = a + b\n",
        "\n",
        "f(a::Float64, b::Float64) = a * b\n",
        "\n",
        "f(a::Number, b::Number) = 2 * (a + b)\n",
        "\n",
        "println(f(2 , 3))\n",
        "println(f(2.0, 3.0))\n",
        "println(f(2, 3.0))\n",
        "\n",
        "methods(f)"
      ]
    },
    {
      "cell_type": "code",
      "execution_count": null,
      "metadata": {
        "id": "hzikskwpzCOP"
      },
      "outputs": [],
      "source": [
        "methods(+)"
      ]
    },
    {
      "cell_type": "markdown",
      "metadata": {
        "id": "lYAZvpg16nFR"
      },
      "source": [
        "# Linear Regression - Julia\n"
      ]
    },
    {
      "cell_type": "code",
      "execution_count": null,
      "metadata": {
        "id": "OjKm70YO6lNu"
      },
      "outputs": [],
      "source": [
        "import Pkg\n",
        "Pkg.add(\"Plots\")\n",
        "Pkg.add(\"GLM\")\n",
        "Pkg.add(\"DataFrames\")\n",
        "using DataFrames\n",
        "using BenchmarkTools\n",
        "using GLM\n",
        "using Plots\n",
        "\n",
        "# perform the ordinary least squares fits\n",
        "data1 = DataFrame(X1=collect(0:100), Y1=rand(0:100,101))\n",
        "data2 = DataFrame(X2=collect(0:1000), Y2=rand(0:100,1001))\n",
        "data3 = DataFrame(X3=collect(0:10000), Y3=rand(0:100,10001))\n",
        "data4 = DataFrame(X4=collect(0:100000), Y4=rand(0:100,100001))\n",
        "\n",
        "ols1 = @btime lm(@formula(Y1 ~ X1), data1)\n",
        "ols2 = @btime lm(@formula(Y2 ~ X2), data2)\n",
        "ols3 = @btime lm(@formula(Y3 ~ X3), data3)\n",
        "ols4 = @btime lm(@formula(Y4 ~ X4), data4)\n",
        "\n",
        "# plot the points\n",
        "plot(data1.X1, data1.Y1, linewidth=2, title=\"X vs Y\", label=[\"Y\"], xlabel=\"X\", ylabel=\"Y\")\n",
        "\n",
        "# display the coefficients\n",
        "println(coef(ols1))\n",
        "\n",
        "Yp = predict(ols1); #load predictions into Yp\n",
        "Yn = Base.hcat(data1.Y1,Yp) #concatenating Y and Yp arrays into a new one called 'Yn' so that we can plot both, below\n",
        "plot(data1.X1, Yn, linewidth=2, title=\"X vs Y\", label=[\"Y\", \"Yp\"], xlabel=\"X\", ylabel=\"Y\")"
      ]
    },
    {
      "cell_type": "markdown",
      "metadata": {
        "id": "pvRN36VNB4c_"
      },
      "source": [
        "# Linear Regression - Python"
      ]
    },
    {
      "cell_type": "code",
      "execution_count": null,
      "metadata": {
        "id": "9qK9Mq5SLkVk"
      },
      "outputs": [],
      "source": [
        "import statsmodels.api as sm\n",
        "import numpy as np\n",
        "import time\n",
        "\n",
        "# defining the variables\n",
        "x1 = list(range(101))\n",
        "x2 = list(range(1001))\n",
        "x3 = list(range(10001))\n",
        "x4 = list(range(100001))\n",
        "y1 = np.random.uniform(low=0, high=100, size=(101,))\n",
        "y2 = np.random.uniform(low=0, high=100, size=(1001,))\n",
        "y3 = np.random.uniform(low=0, high=100, size=(10001,))\n",
        "y4 = np.random.uniform(low=0, high=100, size=(100001,))\n",
        "\n",
        "# performing the regression\n",
        "# and fitting the model\n",
        "starttime = time.perf_counter()\n",
        "result = sm.OLS(y1, x1).fit()\n",
        "endtime = time.perf_counter()\n",
        "elapsed = endtime - starttime\n",
        "print(f'Time taken: {elapsed/10E-6} microseconds')\n",
        "\n",
        "starttime = time.perf_counter()\n",
        "result = sm.OLS(y2, x2).fit()\n",
        "endtime = time.perf_counter()\n",
        "elapsed = endtime - starttime\n",
        "print(f'Time taken: {elapsed/10E-6} microseconds')\n",
        "\n",
        "starttime = time.perf_counter()\n",
        "result = sm.OLS(y3, x3).fit()\n",
        "endtime = time.perf_counter()\n",
        "elapsed = endtime - starttime\n",
        "print(f'Time taken: {elapsed/10E-6} microseconds')\n",
        "\n",
        "starttime = time.perf_counter()\n",
        "result = sm.OLS(y4, x4).fit()\n",
        "endtime = time.perf_counter()\n",
        "elapsed = endtime - starttime\n",
        "print(f'Time taken: {elapsed/10E-6} microseconds')\n",
        "\n",
        "# printing the summary table\n",
        "print(result.summary())"
      ]
    },
    {
      "cell_type": "markdown",
      "metadata": {
        "id": "vECebg2_xl5r"
      },
      "source": [
        "# Introduction to DataFrames in Julia\n",
        "\n",
        "##### Version 0.1\n",
        "\n",
        "***\n",
        "\n",
        "By Scott Coughlin (Northwestern IT Research Computing and Data Services)  \n",
        "30 November 2023"
      ]
    },
    {
      "cell_type": "markdown",
      "metadata": {
        "id": "qARR-pLYgi9n"
      },
      "source": [
        "### Installing and Loading Packages for Julia DataFrames"
      ]
    },
    {
      "cell_type": "markdown",
      "metadata": {
        "id": "-pjZjD6LyIYe"
      },
      "source": [
        "*First*, we need to install the DataFrames package from Julia."
      ]
    },
    {
      "cell_type": "code",
      "execution_count": null,
      "metadata": {
        "id": "xVWJ-uqxyHzO"
      },
      "outputs": [],
      "source": [
        "using Pkg\n",
        "Pkg.add([\"DataFrames\",\"CSV\",\"Query\"])"
      ]
    },
    {
      "cell_type": "markdown",
      "metadata": {
        "id": "h_du1O240RQb"
      },
      "source": [
        "Now that we have installed the DataFrames package, we need load it.\n"
      ]
    },
    {
      "cell_type": "code",
      "execution_count": null,
      "metadata": {
        "id": "XVp1iAWc0O8g"
      },
      "outputs": [],
      "source": [
        "# import pandas\n",
        "using DataFrames, CSV, Query"
      ]
    },
    {
      "cell_type": "markdown",
      "metadata": {
        "id": "g9rdfhh7xqzv"
      },
      "source": [
        "## Creating a DataFrame\n",
        "\n",
        "As with Pandas, there are many ways to construct a DataFrame in Julia. Below, we will go through some examples and comparisons.\n",
        "\n",
        "\n",
        "\n",
        "\n",
        "\n"
      ]
    },
    {
      "cell_type": "markdown",
      "metadata": {
        "id": "emu7cFzc3QUq"
      },
      "source": [
        "### Standard Construction of a DataFrame\n",
        "\n",
        "As with Pandas, there are many ways to construct a DataFrame in Julia. Below, we will go through some examples and comparisons.\n"
      ]
    },
    {
      "cell_type": "code",
      "execution_count": null,
      "metadata": {
        "id": "aw_CGKjxxoTQ"
      },
      "outputs": [],
      "source": [
        "# df = pandas.DataFrame(np.array([[1, 2, 3], [4, 5, 6], [7, 8, 9]]),\n",
        "#                    columns=['a', 'b', 'c'])\n",
        "\n",
        "# Pass column names as strings\n",
        "df = DataFrame([1 2 3; 4 5 6; 7 8 9], [\"a\", \"b\", \"c\"])\n",
        "\n",
        "# Pass column names as \"Symbols\"\n",
        "df2 = DataFrame([1 2 3; 4 5 6; 7 8 9], [:a, :b, :c])\n",
        "print(df)\n",
        "print(df2)"
      ]
    },
    {
      "cell_type": "markdown",
      "metadata": {
        "id": "oitpDdPd5Acd"
      },
      "source": [
        "One very important thing to note in this above is the syntax is the definition of the column names. In Python, if you are going to define a string, you can use either double or single quotes. However, Julia will not like column names in single quotes. The cell below will fail."
      ]
    },
    {
      "cell_type": "code",
      "execution_count": null,
      "metadata": {
        "id": "GJumCE-m9hIS"
      },
      "outputs": [],
      "source": [
        "df = DataFrame([1 2 3; 4 5 6; 7 8 9], ['a', 'b', 'c'])"
      ]
    },
    {
      "cell_type": "markdown",
      "metadata": {
        "id": "Sa4PLXYW_Crw"
      },
      "source": [
        "I think this is probably the best explanation: https://stackoverflow.com/questions/23480722/what-is-a-symbol-in-julia"
      ]
    },
    {
      "cell_type": "markdown",
      "metadata": {
        "id": "6ixgK8sw3NBf"
      },
      "source": [
        "\n",
        "### From a Dictionary"
      ]
    },
    {
      "cell_type": "code",
      "execution_count": null,
      "metadata": {
        "id": "qe0ss_G-0JUW",
        "scrolled": false
      },
      "outputs": [],
      "source": [
        "# df = pandas.DataFrame({\"customer_age\" : [15, 20, 25], \"first_name\" : [\"Scotty\", \"Matthew\", \"Sophie\"]})\n",
        "\n",
        "dict1 = Dict(\"customer_age\" => [15, 20, 25],\n",
        "                   \"first_name\" => [\"Scotty\", \"Matthew\", \"Sophie\"])\n",
        "\n",
        "dict2 = Dict(:customer_age => [15, 20, 25],\n",
        "                   :first_name => [\"Scotty\", \"Matthew\", \"Sophie\"])\n",
        "\n",
        "df1 = DataFrame(dict1)\n",
        "df2 = DataFrame(dict2)\n",
        "print(df1)\n",
        "print(df2)"
      ]
    },
    {
      "cell_type": "markdown",
      "source": [
        "### From a CSV File\n",
        "\n",
        "First, we need to download a CSV file locally. We will actually be using the CSV file below later on in our exercises section, so let us download it now to get a head start!"
      ],
      "metadata": {
        "id": "wm6m8UBYhOe5"
      }
    },
    {
      "cell_type": "code",
      "source": [
        "# Make a call out to the \"shell\" to use `wget` to download the CSV file\n",
        "run(pipeline(`wget -nv https://raw.githubusercontent.com/nuitrcs/Julia_workshop/master/IMDB-directors.csv -O /tmp/IMDB-directors.csv`))"
      ],
      "metadata": {
        "id": "TTqn5PwxiZz0"
      },
      "execution_count": null,
      "outputs": []
    },
    {
      "cell_type": "code",
      "source": [
        "# pandas.read_csv(\"/tmp/IMDB-directors.csv\")\n",
        "input_file = joinpath(\"/tmp\", \"IMDB-directors.csv\");\n",
        "# One way\n",
        "df1 = DataFrame(CSV.File(input_file));\n",
        "# Another way\n",
        "df2 = CSV.read(input_file, DataFrame);"
      ],
      "metadata": {
        "id": "eCMg8SV8i8Dz"
      },
      "execution_count": null,
      "outputs": []
    },
    {
      "cell_type": "markdown",
      "source": [
        "## Joining Data Frames"
      ],
      "metadata": {
        "id": "2QK6CKhSoQKW"
      }
    },
    {
      "cell_type": "code",
      "source": [
        "dict1 = Dict(\"customer_id\" => [1, 2, 3],\n",
        "             \"first_name\" => [\"Scotty\", \"Matthew\", \"Sophie\"])\n",
        "dict2 = Dict(\"customer_id\" => [2, 3, 4],\n",
        "             \"last_name\" => [\"Gorby\", \"van Genderen\", \"Kinaci\"])\n",
        "dict3 = Dict(\"customer_id\" => [1, 2, 3],\n",
        "             \"home\" => [\"Minnesota\", \"Oregon\", \"Netherlands\"])\n",
        "\n",
        "\n",
        "df1 = DataFrame(dict1);\n",
        "df2 = DataFrame(dict2);\n",
        "df3 = DataFrame(dict3);"
      ],
      "metadata": {
        "id": "7uqxhb-R6ue_"
      },
      "execution_count": null,
      "outputs": []
    },
    {
      "cell_type": "markdown",
      "source": [
        "#### `innerjoin`\n",
        "\n",
        "The resulting DataFrame will contain rows from each DataFrame where the value of the \"on\" column is found in both DataFrames\n",
        "\n"
      ],
      "metadata": {
        "id": "IjXxFnQH8e_U"
      }
    },
    {
      "cell_type": "code",
      "source": [
        "print(innerjoin(df1, df3, on = :customer_id))\n",
        "print(innerjoin(df1, df2, on = :customer_id))"
      ],
      "metadata": {
        "id": "HiT9xkiy7uxU"
      },
      "execution_count": null,
      "outputs": []
    },
    {
      "cell_type": "markdown",
      "source": [
        "#### `outerjoin`\n",
        "The resulting DataFrame will contain all rows from both DataFrames. A value of \"missing\" will be added for certain row, column values for column and row combinations not found in one or the other DataFrame.\n",
        "\n"
      ],
      "metadata": {
        "id": "WdaMiM3W842g"
      }
    },
    {
      "cell_type": "code",
      "source": [
        "print(outerjoin(df1, df2, on = :customer_id))"
      ],
      "metadata": {
        "id": "eq_4auQd9yic"
      },
      "execution_count": null,
      "outputs": []
    },
    {
      "cell_type": "markdown",
      "source": [
        "#### `rightjoin`\n",
        "The joining and resulting rows will be based on the rows from the second DataFrame passed to the function"
      ],
      "metadata": {
        "id": "HwyPTH8b89RF"
      }
    },
    {
      "cell_type": "code",
      "source": [
        "print(rightjoin(df1, df2, on = :customer_id))"
      ],
      "metadata": {
        "id": "Hi70a84b92QN"
      },
      "execution_count": null,
      "outputs": []
    },
    {
      "cell_type": "markdown",
      "source": [
        "#### `leftjoin`\n",
        "The joining and resulting rows will be based on the rows from the first DataFrame passed to the function"
      ],
      "metadata": {
        "id": "4dkAYlDr9D-f"
      }
    },
    {
      "cell_type": "code",
      "source": [
        "print(leftjoin(df1, df2, on = :customer_id))"
      ],
      "metadata": {
        "id": "RysfYjzZ9Fga"
      },
      "execution_count": null,
      "outputs": []
    },
    {
      "cell_type": "markdown",
      "source": [
        "#### `semijoin`\n",
        "The returned DataFrame will be only the rows of the first passed DataFrame which overlap with the \"on\" column of the second passed DataFrame\n"
      ],
      "metadata": {
        "id": "W9_kWDT89F_6"
      }
    },
    {
      "cell_type": "code",
      "source": [
        "print(semijoin(df1, df2, on = :customer_id))"
      ],
      "metadata": {
        "id": "Wp9o9HBa9H_S"
      },
      "execution_count": null,
      "outputs": []
    },
    {
      "cell_type": "markdown",
      "source": [
        "#### `antijoin`\n",
        "The returned DataFrame will be only the rows of the first passed DataFrame which *do not* overlap with the \"on\" column of the second passed DataFrame\n"
      ],
      "metadata": {
        "id": "Xq5-sCW09IJ9"
      }
    },
    {
      "cell_type": "code",
      "source": [
        "print(antijoin(df1, df2, on = :customer_id))"
      ],
      "metadata": {
        "id": "2zwmMip79_-0"
      },
      "execution_count": null,
      "outputs": []
    },
    {
      "cell_type": "markdown",
      "source": [
        "## Performing Selections and Queries on DataFrames"
      ],
      "metadata": {
        "id": "baIz8lEJhFFn"
      }
    },
    {
      "cell_type": "code",
      "source": [
        "# pandas.read_csv(\"/tmp/IMDB-directors.csv\")\n",
        "input_file = joinpath(\"/tmp\", \"IMDB-directors.csv\");\n",
        "df = CSV.read(input_file, DataFrame);"
      ],
      "metadata": {
        "id": "Uv4vhLKd7t-z"
      },
      "execution_count": null,
      "outputs": []
    },
    {
      "cell_type": "code",
      "source": [
        "# Select rows 1, 6, 10\n",
        "df[[1, 6, 10], :]"
      ],
      "metadata": {
        "id": "CadKMfSZEQUd"
      },
      "execution_count": null,
      "outputs": []
    },
    {
      "cell_type": "code",
      "source": [
        "# Select all rows but only column `first_name`\n",
        "df[:, [:first_name]]"
      ],
      "metadata": {
        "id": "4wbzcRnBEwfa"
      },
      "execution_count": null,
      "outputs": []
    },
    {
      "cell_type": "code",
      "source": [
        "# Select all rows but only column `first_name` but return an Vector\n",
        "df[:, :first_name]"
      ],
      "metadata": {
        "id": "xVYq6zosFIz_"
      },
      "execution_count": null,
      "outputs": []
    },
    {
      "cell_type": "code",
      "source": [
        "# Flip the DataFrame and return only columns director_id and first_name\n",
        "@view df[end:-1:1, [:director_id, :first_name]]"
      ],
      "metadata": {
        "id": "BxuqYahhFm1c"
      },
      "execution_count": null,
      "outputs": []
    },
    {
      "cell_type": "code",
      "source": [
        "# Add a column called \"Movie Good\", and make all the values be the string \"Awesome\"\n",
        "df[!, :movie_good] .= \"Awesome\";\n",
        "df"
      ],
      "metadata": {
        "id": "Z6q5bTnyF5sy"
      },
      "execution_count": null,
      "outputs": []
    },
    {
      "cell_type": "code",
      "source": [
        "# Select all rows where first_name is Todd\n",
        "df[(df[!,:first_name].==\"Todd\"),:]"
      ],
      "metadata": {
        "id": "9omnLv0QLKAi"
      },
      "execution_count": null,
      "outputs": []
    },
    {
      "cell_type": "code",
      "source": [
        "# Select all rows where first_name is Todd using the Query package\n",
        "q1 = @from i in df begin\n",
        "            @where i.first_name == \"Todd\"\n",
        "            @select {i.first_name, i.director_id, i.last_name}\n",
        "            @collect DataFrame\n",
        "       end"
      ],
      "metadata": {
        "id": "VKqEYyxwI5Bq"
      },
      "execution_count": null,
      "outputs": []
    },
    {
      "cell_type": "code",
      "source": [
        "# Select all rows where first_name is Todd and last_name is Barry\n",
        "df[.&(df[!,:first_name].==\"Todd\", df[!,:last_name].==\"Barry\"),:]"
      ],
      "metadata": {
        "id": "9FiHtY4YL7zV"
      },
      "execution_count": null,
      "outputs": []
    },
    {
      "cell_type": "code",
      "source": [
        "# Select all rows where first_name is Todd and last_name is Barry using the Query package\n",
        "q1 = @from i in df begin\n",
        "            @where i.first_name == \"Todd\" && i.last_name == \"Barry\"\n",
        "            @select {i.first_name, i.director_id, i.last_name}\n",
        "            @collect DataFrame\n",
        "       end"
      ],
      "metadata": {
        "id": "_VQeaKKLMe9K"
      },
      "execution_count": null,
      "outputs": []
    },
    {
      "cell_type": "markdown",
      "metadata": {
        "id": "9Pfe0kNsfjpd"
      },
      "source": [
        "## Exercise: IMDb Data\n",
        "Throughout the session we will use information from the [Internet Movie Database (IMDb)](https://www.imdb.com/) to illustrate various principles regarding databases.\n",
        "\n",
        "A quick note on the provenance of this data. The files we have used to populate this data set are from [this website](https://relational.fit.cvut.cz/dataset/IMDb) and it may not be a list of every single movie on IMDb (there are no movies after 2004)."
      ]
    },
    {
      "cell_type": "markdown",
      "source": [
        "First, we need to download all of the CSV's that we plan on using."
      ],
      "metadata": {
        "id": "VhBmt5fWk7hf"
      }
    },
    {
      "cell_type": "code",
      "source": [
        "run(pipeline(`wget -nv https://raw.githubusercontent.com/nuitrcs/Julia_workshop/master/IMDB-movies.csv -O /tmp/IMDB-movies.csv`))\n",
        "run(pipeline(`wget -nv https://raw.githubusercontent.com/nuitrcs/Julia_workshop/master/IMDB-movies_directors.csv -O /tmp/IMDB-movies_directors.csv`))\n",
        "run(pipeline(`wget -nv https://raw.githubusercontent.com/nuitrcs/Julia_workshop/master/IMDB-movies_genres.csv -O /tmp/IMDB-movies_genres.csv`))"
      ],
      "metadata": {
        "id": "49D7g3VblDM5"
      },
      "execution_count": null,
      "outputs": []
    },
    {
      "cell_type": "markdown",
      "metadata": {
        "id": "8Vg3WInsfjpd"
      },
      "source": [
        "Below we load in the necessary data from CSV files and create 4 DataFrames where we print the first 5 rows of each."
      ]
    },
    {
      "cell_type": "code",
      "execution_count": null,
      "metadata": {
        "id": "v1n3X7mpfjpd"
      },
      "outputs": [],
      "source": [
        "imdb_movies = CSV.read(joinpath(\"/tmp\", \"IMDB-movies.csv\"), DataFrame);\n",
        "imdb_directors = CSV.read(joinpath(\"/tmp\", \"IMDB-directors.csv\"), DataFrame);\n",
        "imdb_movies_directors = CSV.read(joinpath(\"/tmp\", \"IMDB-movies_directors.csv\"), DataFrame);\n",
        "imdb_movies_genres = CSV.read(joinpath(\"/tmp\", \"IMDB-movies_genres.csv\"), DataFrame);\n",
        "print(first(imdb_movies, 5))\n",
        "print(first(imdb_directors, 5))\n",
        "print(first(imdb_movies_directors, 5))\n",
        "print(first(imdb_movies_genres, 5))"
      ]
    },
    {
      "cell_type": "markdown",
      "source": [
        "Let's look at what one would do to combine the information about Movie Titles and Years with information about Movie Genres"
      ],
      "metadata": {
        "id": "24S94vhXosq0"
      }
    },
    {
      "cell_type": "code",
      "source": [
        "innerjoin(imdb_movies_genres, imdb_movies, on=:movie_id)"
      ],
      "metadata": {
        "id": "dCUSGTQpl6IE"
      },
      "execution_count": null,
      "outputs": []
    },
    {
      "cell_type": "markdown",
      "metadata": {
        "id": "JJefynWBfjpe"
      },
      "source": [
        "To make things simple for the rest of the notebook, let's *join* some of these dataframes together in order to have one DataFrame with information from both `imdb_movies` and `imdb_directories` together in a single DataFrame called `imdb_movies_directors` and extend that logic to making `imdb_movies_directors_genres` and `imdb_movies_genres`."
      ]
    },
    {
      "cell_type": "code",
      "source": [
        "## This is what it would look like to do this with Pandas.\n",
        "#imdb_movies_directors_genres = imdb_movies_genres.merge(imdb_movies).merge(imdb_movies_directors).merge(imdb_directors)\n",
        "#imdb_movies_genres = imdb_movies_genres.merge(imdb_movies)\n",
        "#imdb_movies_directors = imdb_movies_directors.merge(imdb_movies).merge(imdb_directors)\n",
        "\n",
        "## How would you do it in Julia??\n",
        "imdb_movies_directors_genres =\n",
        "imdb_movies_genres =\n",
        "imdb_movies_directors ="
      ],
      "metadata": {
        "id": "ChTeQ6E7ohF8"
      },
      "execution_count": null,
      "outputs": []
    },
    {
      "cell_type": "markdown",
      "source": [
        "For our exercises, there are now 5 Julia DataFrames,\n",
        "```\n",
        "imdb_movies\n",
        "imdb_directors\n",
        "imdb_movies_directors\n",
        "imdb_movies_genres\n",
        "imdb_movies_directors_genres\n",
        "```"
      ],
      "metadata": {
        "id": "ixHbiGYEn1XS"
      }
    },
    {
      "cell_type": "markdown",
      "metadata": {
        "id": "8JGbUNitfjpe"
      },
      "source": [
        "## Problem 1) Simple Queries"
      ]
    },
    {
      "cell_type": "markdown",
      "metadata": {
        "id": "5sk5qszQ1dep"
      },
      "source": [
        "**Problem 1a**\n",
        "\n",
        "* SELECT 10 movies from the imbd_movies table\n",
        "* Select 10 directors from imbd_directors and order by `first_name`."
      ]
    },
    {
      "cell_type": "code",
      "execution_count": null,
      "metadata": {
        "id": "L74MXbk0fjpf"
      },
      "outputs": [],
      "source": []
    },
    {
      "cell_type": "markdown",
      "metadata": {
        "id": "HbXxzqtNfjpf"
      },
      "source": [
        "*write your answer here*"
      ]
    },
    {
      "cell_type": "markdown",
      "metadata": {
        "id": "7GUN1fIXfjpg"
      },
      "source": [
        "**Problem 1b**\n",
        "\n",
        "* How many movies are there?\n",
        "* How many directors are there?"
      ]
    },
    {
      "cell_type": "code",
      "execution_count": null,
      "metadata": {
        "id": "h49wXcScfjpg"
      },
      "outputs": [],
      "source": []
    },
    {
      "cell_type": "markdown",
      "metadata": {
        "id": "81ZFGa9bfjpg"
      },
      "source": [
        "*write your answer here*"
      ]
    },
    {
      "cell_type": "markdown",
      "metadata": {
        "id": "2cahcw03fjpg"
      },
      "source": [
        "**Problem 1c**\n",
        "\n",
        "Determine how many movies are there after the year 2000?"
      ]
    },
    {
      "cell_type": "code",
      "execution_count": null,
      "metadata": {
        "id": "z0JJq25Hfjph"
      },
      "outputs": [],
      "source": []
    },
    {
      "cell_type": "markdown",
      "metadata": {
        "id": "Za3hbKEafjph"
      },
      "source": [
        "*write your answer here*"
      ]
    },
    {
      "cell_type": "markdown",
      "metadata": {
        "id": "VH_6mCp3fjph"
      },
      "source": [
        "**Problem 1d**\n",
        "\n",
        "How many different movie genres are there?"
      ]
    },
    {
      "cell_type": "code",
      "execution_count": null,
      "metadata": {
        "id": "sfI-AMXefjph"
      },
      "outputs": [],
      "source": []
    },
    {
      "cell_type": "markdown",
      "metadata": {
        "id": "73K0Gv20fjph"
      },
      "source": [
        "*write your answer here*"
      ]
    },
    {
      "cell_type": "markdown",
      "metadata": {
        "id": "JAbetmTPfjph"
      },
      "source": [
        "## Problem 2) Groups and Aggregates"
      ]
    },
    {
      "cell_type": "markdown",
      "metadata": {
        "id": "L_J8QDKnfjpi"
      },
      "source": [
        "**Problem 2a**\n",
        "\n",
        "In which year were the most movies made according to IMDb?"
      ]
    },
    {
      "cell_type": "code",
      "execution_count": null,
      "metadata": {
        "id": "ShN6MFYqfjpi"
      },
      "outputs": [],
      "source": []
    },
    {
      "cell_type": "markdown",
      "metadata": {
        "id": "QPkXXAlofjpi"
      },
      "source": [
        "*write your answer here*"
      ]
    },
    {
      "cell_type": "markdown",
      "metadata": {
        "id": "QyM_SXxRfjpi"
      },
      "source": [
        "**Problem 2b**\n",
        "\n",
        "How many \"Action\" movies where made after the year 1980? Before the year 1980?"
      ]
    },
    {
      "cell_type": "code",
      "execution_count": null,
      "metadata": {
        "id": "DsqRyEYdfjpi"
      },
      "outputs": [],
      "source": []
    },
    {
      "cell_type": "markdown",
      "metadata": {
        "id": "O86KceKlfjpj"
      },
      "source": [
        "*write your answer here*"
      ]
    },
    {
      "cell_type": "markdown",
      "metadata": {
        "id": "ssK1akHLfjpj"
      },
      "source": [
        "**Problem 2c**\n",
        "\n",
        "Select all films made by `Scorsese`. How many are there?"
      ]
    },
    {
      "cell_type": "code",
      "execution_count": null,
      "metadata": {
        "id": "kyTX98Nlfjpj"
      },
      "outputs": [],
      "source": []
    },
    {
      "cell_type": "markdown",
      "metadata": {
        "id": "ezB-4TPAfjpk"
      },
      "source": [
        "*write your answer here*"
      ]
    },
    {
      "cell_type": "markdown",
      "metadata": {
        "id": "Dp6r51nufjpk"
      },
      "source": [
        "**Problem 2d**\n",
        "\n",
        "According the the IMDb data, which director has directed the most movies?"
      ]
    },
    {
      "cell_type": "code",
      "execution_count": null,
      "metadata": {
        "id": "20GMpAY1fjpk"
      },
      "outputs": [],
      "source": []
    },
    {
      "cell_type": "markdown",
      "metadata": {
        "id": "vV1qQQVXfjpk"
      },
      "source": [
        "*write your answer here*"
      ]
    },
    {
      "cell_type": "markdown",
      "metadata": {
        "id": "O64AlDhGfjpk"
      },
      "source": [
        "**Problem 2e**\n",
        "\n",
        "According the the IMDb data, which director has directed the most movies in each genre?"
      ]
    },
    {
      "cell_type": "code",
      "execution_count": null,
      "metadata": {
        "id": "PhxPWDWlfjpl"
      },
      "outputs": [],
      "source": []
    },
    {
      "cell_type": "markdown",
      "metadata": {
        "id": "r6peO424fjpl"
      },
      "source": [
        "*write your answer here*"
      ]
    }
  ],
  "metadata": {
    "colab": {
      "provenance": []
    },
    "kernelspec": {
      "display_name": "julia 1.9.3",
      "name": "julia"
    }
  },
  "nbformat": 4,
  "nbformat_minor": 0
}
