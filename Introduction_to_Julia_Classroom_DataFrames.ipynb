{
  "cells": [
    {
      "cell_type": "markdown",
      "metadata": {
        "id": "tQ1r1bbb0yBv"
      },
      "source": [
        "# <img src=\"https://github.com/JuliaLang/julia-logo-graphics/raw/master/images/julia-logo-color.png\" height=\"100\" /> _Colab Notebook Template_\n",
        "\n",
        "## Instructions\n",
        "1. Work on a copy of this notebook: _File_ > _Save a copy in Drive_ (you will need a Google account). Alternatively, you can download the notebook using _File_ > _Download .ipynb_, then upload it to [Colab](https://colab.research.google.com/).\n",
        "2. If you need a GPU: _Runtime_ > _Change runtime type_ > _Harware accelerator_ = _GPU_.\n",
        "3. Execute the following cell (click on it and press Ctrl+Enter) to install Julia, IJulia and other packages (if needed, update `JULIA_VERSION` and the other parameters). This takes a couple of minutes.\n",
        "4. Reload this page (press Ctrl+R, or ⌘+R, or the F5 key) and continue to the next section.\n",
        "\n",
        "_Notes_:\n",
        "* If your Colab Runtime gets reset (e.g., due to inactivity), repeat steps 2, 3 and 4.\n",
        "* After installation, if you want to change the Julia version or activate/deactivate the GPU, you will need to reset the Runtime: _Runtime_ > _Factory reset runtime_ and repeat steps 3 and 4."
      ]
    },
    {
      "cell_type": "code",
      "execution_count": 1,
      "metadata": {
        "colab": {
          "base_uri": "https://localhost:8080/"
        },
        "id": "GIeFXS0F0zww",
        "outputId": "076315aa-32b1-4911-8a30-3fd3b954d440"
      },
      "outputs": [
        {
          "output_type": "stream",
          "name": "stdout",
          "text": [
            "Installing Julia 1.9.3 on the current Colab Runtime...\n",
            "2023-11-30 13:50:36 URL:https://storage.googleapis.com/julialang2/bin/linux/x64/1.9/julia-1.9.3-linux-x86_64.tar.gz [146268149/146268149] -> \"/tmp/julia.tar.gz\" [1]\n",
            "Installing Julia package IJulia...\n",
            "Installing Julia package BenchmarkTools...\n",
            "Installing Julia package DataFrames...\n",
            "Installing Julia package CSV...\n",
            "Installing IJulia kernel...\n",
            "\u001b[36m\u001b[1m[ \u001b[22m\u001b[39m\u001b[36m\u001b[1mInfo: \u001b[22m\u001b[39mInstalling julia kernelspec in /root/.local/share/jupyter/kernels/julia-1.9\n",
            "\n",
            "Successfully installed julia version 1.9.3!\n",
            "Please reload this page (press Ctrl+R, ⌘+R, or the F5 key) then\n",
            "jump to the 'Checking the Installation' section.\n"
          ]
        },
        {
          "output_type": "execute_result",
          "data": {
            "text/plain": []
          },
          "metadata": {},
          "execution_count": 1
        }
      ],
      "source": [
        "%%shell\n",
        "set -e\n",
        "\n",
        "#---------------------------------------------------#\n",
        "JULIA_VERSION=\"1.9.3\" # any version ≥ 0.7.0\n",
        "JULIA_PACKAGES=\"IJulia BenchmarkTools DataFrames CSV\"\n",
        "JULIA_PACKAGES_IF_GPU=\"CUDA\" # or CuArrays for older Julia versions\n",
        "JULIA_NUM_THREADS=2\n",
        "#---------------------------------------------------#\n",
        "\n",
        "if [ -z `which julia` ]; then\n",
        "  # Install Julia\n",
        "  JULIA_VER=`cut -d '.' -f -2 <<< \"$JULIA_VERSION\"`\n",
        "  echo \"Installing Julia $JULIA_VERSION on the current Colab Runtime...\"\n",
        "  BASE_URL=\"https://julialang-s3.julialang.org/bin/linux/x64\"\n",
        "  URL=\"$BASE_URL/$JULIA_VER/julia-$JULIA_VERSION-linux-x86_64.tar.gz\"\n",
        "  wget -nv $URL -O /tmp/julia.tar.gz # -nv means \"not verbose\"\n",
        "  tar -x -f /tmp/julia.tar.gz -C /usr/local --strip-components 1\n",
        "  rm /tmp/julia.tar.gz\n",
        "\n",
        "  # Install Packages\n",
        "  nvidia-smi -L &> /dev/null && export GPU=1 || export GPU=0\n",
        "  if [ $GPU -eq 1 ]; then\n",
        "    JULIA_PACKAGES=\"$JULIA_PACKAGES $JULIA_PACKAGES_IF_GPU\"\n",
        "  fi\n",
        "  for PKG in `echo $JULIA_PACKAGES`; do\n",
        "    echo \"Installing Julia package $PKG...\"\n",
        "    julia -e 'using Pkg; pkg\"add '$PKG'; precompile;\"' &> /dev/null\n",
        "  done\n",
        "\n",
        "  # Install kernel and rename it to \"julia\"\n",
        "  echo \"Installing IJulia kernel...\"\n",
        "  julia -e 'using IJulia; IJulia.installkernel(\"julia\", env=Dict(\n",
        "      \"JULIA_NUM_THREADS\"=>\"'\"$JULIA_NUM_THREADS\"'\"))'\n",
        "  KERNEL_DIR=`julia -e \"using IJulia; print(IJulia.kerneldir())\"`\n",
        "  KERNEL_NAME=`ls -d \"$KERNEL_DIR\"/julia*`\n",
        "  mv -f $KERNEL_NAME \"$KERNEL_DIR\"/julia\n",
        "\n",
        "  echo ''\n",
        "  echo \"Successfully installed `julia -v`!\"\n",
        "  echo \"Please reload this page (press Ctrl+R, ⌘+R, or the F5 key) then\"\n",
        "  echo \"jump to the 'Checking the Installation' section.\"\n",
        "fi"
      ]
    },
    {
      "cell_type": "markdown",
      "metadata": {
        "id": "-OS3Ac017T1i"
      },
      "source": [
        "# Checking the Installation\n",
        "The `versioninfo()` function should print your Julia version and some other info about the system:"
      ]
    },
    {
      "cell_type": "code",
      "execution_count": 1,
      "metadata": {
        "colab": {
          "base_uri": "https://localhost:8080/"
        },
        "id": "EEzvvzCl1i0F",
        "outputId": "a8c09b4b-1f84-4615-b4fd-0a63d3abe072"
      },
      "outputs": [
        {
          "output_type": "stream",
          "name": "stdout",
          "text": [
            "Julia Version 1.9.3\n",
            "Commit bed2cd540a1 (2023-08-24 14:43 UTC)\n",
            "Build Info:\n",
            "  Official https://julialang.org/ release\n",
            "Platform Info:\n",
            "  OS: Linux (x86_64-linux-gnu)\n",
            "  CPU: 2 × Intel(R) Xeon(R) CPU @ 2.20GHz\n",
            "  WORD_SIZE: 64\n",
            "  LIBM: libopenlibm\n",
            "  LLVM: libLLVM-14.0.6 (ORCJIT, broadwell)\n",
            "  Threads: 3 on 2 virtual cores\n",
            "Environment:\n",
            "  LD_LIBRARY_PATH = /usr/local/nvidia/lib:/usr/local/nvidia/lib64\n",
            "  JULIA_NUM_THREADS = 2\n"
          ]
        }
      ],
      "source": [
        "versioninfo()"
      ]
    },
    {
      "cell_type": "markdown",
      "metadata": {
        "id": "vECebg2_xl5r"
      },
      "source": [
        "# Introduction to DataFrames in Julia\n",
        "\n",
        "##### Version 0.1\n",
        "\n",
        "***\n",
        "\n",
        "By Scott Coughlin (Northwestern IT Research Computing and Data Services)  \n",
        "30 November 2023"
      ]
    },
    {
      "cell_type": "markdown",
      "metadata": {
        "id": "qARR-pLYgi9n"
      },
      "source": [
        "### Installing and Loading Packages for Julia DataFrames"
      ]
    },
    {
      "cell_type": "markdown",
      "metadata": {
        "id": "-pjZjD6LyIYe"
      },
      "source": [
        "*First*, we need to install the DataFrames package from Julia."
      ]
    },
    {
      "cell_type": "code",
      "execution_count": 2,
      "metadata": {
        "colab": {
          "base_uri": "https://localhost:8080/"
        },
        "id": "xVWJ-uqxyHzO",
        "outputId": "858e6e99-781c-481e-b8ed-6dbd60f20a53"
      },
      "outputs": [
        {
          "output_type": "stream",
          "name": "stderr",
          "text": [
            "\u001b[32m\u001b[1m    Updating\u001b[22m\u001b[39m registry at `~/.julia/registries/General.toml`\n",
            "\u001b[32m\u001b[1m   Resolving\u001b[22m\u001b[39m package versions...\n",
            "\u001b[32m\u001b[1m  No Changes\u001b[22m\u001b[39m to `~/.julia/environments/v1.9/Project.toml`\n",
            "\u001b[32m\u001b[1m  No Changes\u001b[22m\u001b[39m to `~/.julia/environments/v1.9/Manifest.toml`\n"
          ]
        }
      ],
      "source": [
        "using Pkg\n",
        "Pkg.add([\"DataFrames\",\"CSV\"])"
      ]
    },
    {
      "cell_type": "markdown",
      "metadata": {
        "id": "h_du1O240RQb"
      },
      "source": [
        "Now that we have installed the DataFrames package, we need load it.\n"
      ]
    },
    {
      "cell_type": "code",
      "execution_count": 2,
      "metadata": {
        "id": "XVp1iAWc0O8g"
      },
      "outputs": [],
      "source": [
        "# import pandas\n",
        "using DataFrames, CSV"
      ]
    },
    {
      "cell_type": "markdown",
      "metadata": {
        "id": "g9rdfhh7xqzv"
      },
      "source": [
        "## Creating a DataFrame\n",
        "\n",
        "As with Pandas, there are many ways to construct a DataFrame in Julia. Below, we will go through some examples and comparisons.\n",
        "\n",
        "\n",
        "\n",
        "\n",
        "\n"
      ]
    },
    {
      "cell_type": "markdown",
      "metadata": {
        "id": "emu7cFzc3QUq"
      },
      "source": [
        "### Standard Construction of a DataFrame\n",
        "\n",
        "As with Pandas, there are many ways to construct a DataFrame in Julia. Below, we will go through some examples and comparisons.\n"
      ]
    },
    {
      "cell_type": "code",
      "execution_count": 5,
      "metadata": {
        "colab": {
          "base_uri": "https://localhost:8080/"
        },
        "id": "aw_CGKjxxoTQ",
        "outputId": "af9c020c-3c82-4c08-9f56-70bc82b39f23"
      },
      "outputs": [
        {
          "output_type": "stream",
          "name": "stdout",
          "text": [
            "\u001b[1m3×3 DataFrame\u001b[0m\n",
            "\u001b[1m Row \u001b[0m│\u001b[1m a     \u001b[0m\u001b[1m b     \u001b[0m\u001b[1m c     \u001b[0m\n",
            "     │\u001b[90m Int64 \u001b[0m\u001b[90m Int64 \u001b[0m\u001b[90m Int64 \u001b[0m\n",
            "─────┼─────────────────────\n",
            "   1 │     1      2      3\n",
            "   2 │     4      5      6\n",
            "   3 │     7      8      9\u001b[1m3×3 DataFrame\u001b[0m\n",
            "\u001b[1m Row \u001b[0m│\u001b[1m a     \u001b[0m\u001b[1m b     \u001b[0m\u001b[1m c     \u001b[0m\n",
            "     │\u001b[90m Int64 \u001b[0m\u001b[90m Int64 \u001b[0m\u001b[90m Int64 \u001b[0m\n",
            "─────┼─────────────────────\n",
            "   1 │     1      2      3\n",
            "   2 │     4      5      6\n",
            "   3 │     7      8      9"
          ]
        }
      ],
      "source": [
        "# df = pandas.DataFrame(np.array([[1, 2, 3], [4, 5, 6], [7, 8, 9]]),\n",
        "#                    columns=['a', 'b', 'c'])\n",
        "\n",
        "# Pass column names as strings\n",
        "df = DataFrame([1 2 3; 4 5 6; 7 8 9], [\"a\", \"b\", \"c\"])\n",
        "\n",
        "# Pass column names as \"Symbols\"\n",
        "df2 = DataFrame([1 2 3; 4 5 6; 7 8 9], [:a, :b, :c])\n",
        "print(df)\n",
        "print(df2)"
      ]
    },
    {
      "cell_type": "markdown",
      "metadata": {
        "id": "oitpDdPd5Acd"
      },
      "source": [
        "One very important thing to note in this above is the syntax is the definition of the column names. Unlike in Python if you are going to define a `string` then your but usea. double quote \" instead of a single '. The cell below will fail."
      ]
    },
    {
      "cell_type": "code",
      "execution_count": null,
      "metadata": {
        "colab": {
          "base_uri": "https://localhost:8080/",
          "height": 272
        },
        "id": "GJumCE-m9hIS",
        "outputId": "689e3990-8bff-4a8f-b3a7-68ad222ebfa4"
      },
      "outputs": [
        {
          "ename": "LoadError",
          "evalue": "ignored",
          "output_type": "error",
          "traceback": [
            "ArgumentError: All passed column names must be strings or Symbols",
            "",
            "Stacktrace:",
            " [1] _name2symbol(str::Vector{Char})",
            "   @ DataFrames ~/.julia/packages/DataFrames/58MUJ/src/dataframe/dataframe.jl:348",
            " [2] #DataFrame#235",
            "   @ ~/.julia/packages/DataFrames/58MUJ/src/dataframe/dataframe.jl:385 [inlined]",
            " [3] DataFrame(columns::Matrix{Int64}, cnames::Vector{Char})",
            "   @ DataFrames ~/.julia/packages/DataFrames/58MUJ/src/dataframe/dataframe.jl:385",
            " [4] top-level scope",
            "   @ In[32]:1"
          ]
        }
      ],
      "source": [
        "df = DataFrame([1 2 3; 4 5 6; 7 8 9], ['a', 'b', 'c'])"
      ]
    },
    {
      "cell_type": "markdown",
      "metadata": {
        "id": "Sa4PLXYW_Crw"
      },
      "source": [
        "I think this is probably the best explanation: https://stackoverflow.com/questions/23480722/what-is-a-symbol-in-julia"
      ]
    },
    {
      "cell_type": "markdown",
      "metadata": {
        "id": "6ixgK8sw3NBf"
      },
      "source": [
        "\n",
        "### From a Dictionary"
      ]
    },
    {
      "cell_type": "code",
      "execution_count": 6,
      "metadata": {
        "colab": {
          "base_uri": "https://localhost:8080/"
        },
        "id": "qe0ss_G-0JUW",
        "outputId": "a10b4550-f098-4c52-d43c-df7efcba71ce",
        "scrolled": false
      },
      "outputs": [
        {
          "output_type": "stream",
          "name": "stdout",
          "text": [
            "\u001b[1m3×2 DataFrame\u001b[0m\n",
            "\u001b[1m Row \u001b[0m│\u001b[1m customer_age \u001b[0m\u001b[1m first_name \u001b[0m\n",
            "     │\u001b[90m Int64        \u001b[0m\u001b[90m String     \u001b[0m\n",
            "─────┼──────────────────────────\n",
            "   1 │           15  Scotty\n",
            "   2 │           20  Matthew\n",
            "   3 │           25  Sophie\u001b[1m3×2 DataFrame\u001b[0m\n",
            "\u001b[1m Row \u001b[0m│\u001b[1m customer_age \u001b[0m\u001b[1m first_name \u001b[0m\n",
            "     │\u001b[90m Int64        \u001b[0m\u001b[90m String     \u001b[0m\n",
            "─────┼──────────────────────────\n",
            "   1 │           15  Scotty\n",
            "   2 │           20  Matthew\n",
            "   3 │           25  Sophie"
          ]
        }
      ],
      "source": [
        "# df = pandas.DataFrame({\"customer_age\" : [15, 20, 25], \"first_name\" : [\"Scotty\", \"Matthew\", \"Sophie\"]})\n",
        "\n",
        "dict1 = Dict(\"customer_age\" => [15, 20, 25],\n",
        "                   \"first_name\" => [\"Scotty\", \"Matthew\", \"Sophie\"])\n",
        "\n",
        "dict2 = Dict(:customer_age => [15, 20, 25],\n",
        "                   :first_name => [\"Scotty\", \"Matthew\", \"Sophie\"])\n",
        "\n",
        "df1 = DataFrame(dict1)\n",
        "df2 = DataFrame(dict2)\n",
        "print(df1)\n",
        "print(df2)"
      ]
    },
    {
      "cell_type": "markdown",
      "source": [
        "### From a CSV File\n",
        "\n",
        "First, we need to download a CSV file locally. We will actually be using the CSV file below later on in our exercises section, so let us download it now to get a head start!"
      ],
      "metadata": {
        "id": "wm6m8UBYhOe5"
      }
    },
    {
      "cell_type": "code",
      "source": [
        "# Make a call out to the \"shell\" to use `wget` to download the CSV file\n",
        "run(pipeline(`wget -nv https://raw.githubusercontent.com/nuitrcs/Julia_workshop/master/IMDB-directors.csv -O /tmp/IMDB-directors.csv`))"
      ],
      "metadata": {
        "id": "TTqn5PwxiZz0",
        "outputId": "fbce7c9a-8464-446a-86c6-d98b053c215a",
        "colab": {
          "base_uri": "https://localhost:8080/"
        }
      },
      "execution_count": 9,
      "outputs": [
        {
          "output_type": "stream",
          "name": "stderr",
          "text": [
            "2023-11-30 14:04:30 URL:https://raw.githubusercontent.com/nuitrcs/Julia_workshop/master/IMDB-directors.csv [1943575/1943575] -> \"/tmp/IMDB-directors.csv\" [1]\n"
          ]
        },
        {
          "output_type": "execute_result",
          "data": {
            "text/plain": [
              "Process(`\u001b[4mwget\u001b[24m \u001b[4m-nv\u001b[24m \u001b[4mhttps://raw.githubusercontent.com/nuitrcs/Julia_workshop/master/IMDB-directors.csv\u001b[24m \u001b[4m-O\u001b[24m \u001b[4m/tmp/IMDB-directors.csv\u001b[24m`, ProcessExited(0))"
            ]
          },
          "metadata": {},
          "execution_count": 9
        }
      ]
    },
    {
      "cell_type": "code",
      "source": [
        "# pandas.read_csv(\"/tmp/IMDB-directors.csv\")\n",
        "input_file = joinpath(\"/tmp\", \"IMDB-directors.csv\");\n",
        "# One way\n",
        "df1 = DataFrame(CSV.File(input_file));\n",
        "# Another way\n",
        "df2 = CSV.read(input_file, DataFrame);"
      ],
      "metadata": {
        "id": "eCMg8SV8i8Dz"
      },
      "execution_count": 3,
      "outputs": []
    },
    {
      "cell_type": "markdown",
      "source": [
        "## Joining Data Frames"
      ],
      "metadata": {
        "id": "2QK6CKhSoQKW"
      }
    },
    {
      "cell_type": "markdown",
      "source": [
        "## Performing Selections and Queries on DataFrames"
      ],
      "metadata": {
        "id": "baIz8lEJhFFn"
      }
    },
    {
      "cell_type": "markdown",
      "metadata": {
        "id": "9Pfe0kNsfjpd"
      },
      "source": [
        "## Exercise: IMDb Data\n",
        "Throughout the session we will use information from the [Internet Movie Database (IMDb)](https://www.imdb.com/) to illustrate various principles regarding databases.\n",
        "\n",
        "A quick note on the provenance of this data. The files we have used to populate this data set are from [this website](https://relational.fit.cvut.cz/dataset/IMDb) and it may not be a list of every single movie on IMDb (there are no movies after 2004)."
      ]
    },
    {
      "cell_type": "markdown",
      "source": [
        "First, we need to download all of the CSV's that we plan on using."
      ],
      "metadata": {
        "id": "VhBmt5fWk7hf"
      }
    },
    {
      "cell_type": "code",
      "source": [
        "run(pipeline(`wget -nv https://raw.githubusercontent.com/nuitrcs/Julia_workshop/master/IMDB-movies.csv -O /tmp/IMDB-movies.csv`))\n",
        "run(pipeline(`wget -nv https://raw.githubusercontent.com/nuitrcs/Julia_workshop/master/IMDB-movies_directors.csv -O /tmp/IMDB-movies_directors.csv`))\n",
        "run(pipeline(`wget -nv https://raw.githubusercontent.com/nuitrcs/Julia_workshop/master/IMDB-movies_genres.csv -O /tmp/IMDB-movies_genres.csv`))"
      ],
      "metadata": {
        "id": "49D7g3VblDM5",
        "outputId": "e0828968-1797-498a-d225-a1ec71444e5b",
        "colab": {
          "base_uri": "https://localhost:8080/"
        }
      },
      "execution_count": 4,
      "outputs": [
        {
          "output_type": "stream",
          "name": "stderr",
          "text": [
            "2023-11-30 14:17:23 URL:https://raw.githubusercontent.com/nuitrcs/Julia_workshop/master/IMDB-movies.csv [12953570/12953570] -> \"/tmp/IMDB-movies.csv\" [1]\n",
            "2023-11-30 14:17:25 URL:https://raw.githubusercontent.com/nuitrcs/Julia_workshop/master/IMDB-movies_directors.csv [5060070/5060070] -> \"/tmp/IMDB-movies_directors.csv\" [1]\n",
            "2023-11-30 14:17:27 URL:https://raw.githubusercontent.com/nuitrcs/Julia_workshop/master/IMDB-movies_genres.csv [5964803/5964803] -> \"/tmp/IMDB-movies_genres.csv\" [1]\n"
          ]
        },
        {
          "output_type": "execute_result",
          "data": {
            "text/plain": [
              "Process(`\u001b[4mwget\u001b[24m \u001b[4m-nv\u001b[24m \u001b[4mhttps://raw.githubusercontent.com/nuitrcs/Julia_workshop/master/IMDB-movies_genres.csv\u001b[24m \u001b[4m-O\u001b[24m \u001b[4m/tmp/IMDB-movies_genres.csv\u001b[24m`, ProcessExited(0))"
            ]
          },
          "metadata": {},
          "execution_count": 4
        }
      ]
    },
    {
      "cell_type": "markdown",
      "metadata": {
        "id": "8Vg3WInsfjpd"
      },
      "source": [
        "Below we load in the necessary data from CSV files and create 4 DataFrames where we print the first 5 rows of each."
      ]
    },
    {
      "cell_type": "code",
      "execution_count": 15,
      "metadata": {
        "id": "v1n3X7mpfjpd",
        "outputId": "2573e0b2-5133-4536-d2c4-808c6dddfaca",
        "colab": {
          "base_uri": "https://localhost:8080/"
        }
      },
      "outputs": [
        {
          "output_type": "stream",
          "name": "stdout",
          "text": [
            "\u001b[1m5×4 DataFrame\u001b[0m\n",
            "\u001b[1m Row \u001b[0m│\u001b[1m movie_id \u001b[0m\u001b[1m name                              \u001b[0m\u001b[1m year  \u001b[0m\u001b[1m rank    \u001b[0m\n",
            "     │\u001b[90m Int64    \u001b[0m\u001b[90m String                            \u001b[0m\u001b[90m Int64 \u001b[0m\u001b[90m Float64 \u001b[0m\n",
            "─────┼─────────────────────────────────────────────────────────────\n",
            "   1 │        0  #28                                 2002      0.0\n",
            "   2 │        1  #7 Train: An Immigrant Journey, …   2000      0.0\n",
            "   3 │        2  $                                   1971      6.4\n",
            "   4 │        3  $1,000 Reward                       1913      0.0\n",
            "   5 │        4  $1,000 Reward                       1915      0.0\u001b[1m5×3 DataFrame\u001b[0m\n",
            "\u001b[1m Row \u001b[0m│\u001b[1m director_id \u001b[0m\u001b[1m first_name \u001b[0m\u001b[1m last_name   \u001b[0m\n",
            "     │\u001b[90m Int64       \u001b[0m\u001b[90m String31   \u001b[0m\u001b[90m String31    \u001b[0m\n",
            "─────┼──────────────────────────────────────\n",
            "   1 │           1  Todd        1\n",
            "   2 │           2  Les         12 Poissons\n",
            "   3 │           3  Lejaren     a'Hiller\n",
            "   4 │           4  Nian        A\n",
            "   5 │           5  Khairiya    A-Mansour\u001b[1m5×2 DataFrame\u001b[0m\n",
            "\u001b[1m Row \u001b[0m│\u001b[1m director_id \u001b[0m\u001b[1m movie_id \u001b[0m\n",
            "     │\u001b[90m Int64       \u001b[0m\u001b[90m Int64    \u001b[0m\n",
            "─────┼───────────────────────\n",
            "   1 │           1    378879\n",
            "   2 │           2    281325\n",
            "   3 │           3     30621\n",
            "   4 │           3    304743\n",
            "   5 │           4     60570\u001b[1m5×2 DataFrame\u001b[0m\n",
            "\u001b[1m Row \u001b[0m│\u001b[1m movie_id \u001b[0m\u001b[1m genre       \u001b[0m\n",
            "     │\u001b[90m Int64    \u001b[0m\u001b[90m String15    \u001b[0m\n",
            "─────┼───────────────────────\n",
            "   1 │        1  Documentary\n",
            "   2 │        1  Short\n",
            "   3 │        2  Comedy\n",
            "   4 │        2  Crime\n",
            "   5 │        5  Western"
          ]
        }
      ],
      "source": [
        "imdb_movies = CSV.read(joinpath(\"/tmp\", \"IMDB-movies.csv\"), DataFrame);\n",
        "imdb_directors = CSV.read(joinpath(\"/tmp\", \"IMDB-directors.csv\"), DataFrame);\n",
        "imdb_movies_directors = CSV.read(joinpath(\"/tmp\", \"IMDB-movies_directors.csv\"), DataFrame);\n",
        "imdb_movies_genres = CSV.read(joinpath(\"/tmp\", \"IMDB-movies_genres.csv\"), DataFrame);\n",
        "print(first(imdb_movies, 5))\n",
        "print(first(imdb_directors, 5))\n",
        "print(first(imdb_movies_directors, 5))\n",
        "print(first(imdb_movies_genres, 5))"
      ]
    },
    {
      "cell_type": "markdown",
      "source": [
        "Let's look at what one would do to combine the information about Movie Titles and Years with information about Movie Genres"
      ],
      "metadata": {
        "id": "24S94vhXosq0"
      }
    },
    {
      "cell_type": "code",
      "source": [
        "innerjoin(imdb_movies_genres, imdb_movies, on=:movie_id)"
      ],
      "metadata": {
        "id": "dCUSGTQpl6IE",
        "outputId": "1595f303-98c5-485e-b8dd-b5006864096b",
        "colab": {
          "base_uri": "https://localhost:8080/",
          "height": 641
        }
      },
      "execution_count": 13,
      "outputs": [
        {
          "output_type": "execute_result",
          "data": {
            "text/plain": [
              "\u001b[1m395119×5 DataFrame\u001b[0m\n",
              "\u001b[1m    Row \u001b[0m│\u001b[1m movie_id \u001b[0m\u001b[1m genre       \u001b[0m\u001b[1m name                              \u001b[0m\u001b[1m year  \u001b[0m\u001b[1m rank    \u001b[0m\n",
              "        │\u001b[90m Int64    \u001b[0m\u001b[90m String15    \u001b[0m\u001b[90m String                            \u001b[0m\u001b[90m Int64 \u001b[0m\u001b[90m Float64 \u001b[0m\n",
              "────────┼──────────────────────────────────────────────────────────────────────────\n",
              "      1 │        1  Documentary  #7 Train: An Immigrant Journey, …   2000      0.0\n",
              "      2 │        1  Short        #7 Train: An Immigrant Journey, …   2000      0.0\n",
              "      3 │        2  Comedy       $                                   1971      6.4\n",
              "      4 │        2  Crime        $                                   1971      6.4\n",
              "      5 │        5  Western      $1,000 Reward                       1923      0.0\n",
              "      6 │        6  Comedy       $1,000,000 Duck                     1971      5.0\n",
              "      7 │        6  Family       $1,000,000 Duck                     1971      5.0\n",
              "      8 │        8  Animation    $10,000 Under a Pillow              1921      0.0\n",
              "      9 │        8  Comedy       $10,000 Under a Pillow              1921      0.0\n",
              "     10 │        8  Short        $10,000 Under a Pillow              1921      0.0\n",
              "     11 │        9  Drama        $100,000.00                         1915      0.0\n",
              "   ⋮    │    ⋮           ⋮                       ⋮                    ⋮       ⋮\n",
              " 395110 │   378608  Fantasy      nc gz                               1988      0.0\n",
              " 395111 │   378609  Crime        nc kat cinayeti                     1954      0.0\n",
              " 395112 │   378610  Drama        nc sayfa                            1999      7.0\n",
              " 395113 │   378611  Drama        nc Selim'in gzdesi                  1950      0.0\n",
              " 395114 │   378611  Romance      nc Selim'in gzdesi                  1950      0.0\n",
              " 395115 │   378612  Adventure    nz de mihlarim                      1965      0.0\n",
              " 395116 │   378612  Drama        nz de mihlarim                      1965      0.0\n",
              " 395117 │   378613  Comedy       egar a gerist                       1998      0.0\n",
              " 395118 │   378613  Drama        egar a gerist                       1998      0.0\n",
              " 395119 │   378614  Comedy       . 19,99                             1998      6.3\n",
              "\u001b[36m                                                                395098 rows omitted\u001b[0m"
            ],
            "text/html": [
              "<div><div style = \"float: left;\"><span>395119×5 DataFrame</span></div><div style = \"float: right;\"><span style = \"font-style: italic;\">395094 rows omitted</span></div><div style = \"clear: both;\"></div></div><div class = \"data-frame\" style = \"overflow-x: scroll;\"><table class = \"data-frame\" style = \"margin-bottom: 6px;\"><thead><tr class = \"header\"><th class = \"rowNumber\" style = \"font-weight: bold; text-align: right;\">Row</th><th style = \"text-align: left;\">movie_id</th><th style = \"text-align: left;\">genre</th><th style = \"text-align: left;\">name</th><th style = \"text-align: left;\">year</th><th style = \"text-align: left;\">rank</th></tr><tr class = \"subheader headerLastRow\"><th class = \"rowNumber\" style = \"font-weight: bold; text-align: right;\"></th><th title = \"Int64\" style = \"text-align: left;\">Int64</th><th title = \"String15\" style = \"text-align: left;\">String15</th><th title = \"String\" style = \"text-align: left;\">String</th><th title = \"Int64\" style = \"text-align: left;\">Int64</th><th title = \"Float64\" style = \"text-align: left;\">Float64</th></tr></thead><tbody><tr><td class = \"rowNumber\" style = \"font-weight: bold; text-align: right;\">1</td><td style = \"text-align: right;\">1</td><td style = \"text-align: left;\">Documentary</td><td style = \"text-align: left;\">#7 Train: An Immigrant Journey, The</td><td style = \"text-align: right;\">2000</td><td style = \"text-align: right;\">0.0</td></tr><tr><td class = \"rowNumber\" style = \"font-weight: bold; text-align: right;\">2</td><td style = \"text-align: right;\">1</td><td style = \"text-align: left;\">Short</td><td style = \"text-align: left;\">#7 Train: An Immigrant Journey, The</td><td style = \"text-align: right;\">2000</td><td style = \"text-align: right;\">0.0</td></tr><tr><td class = \"rowNumber\" style = \"font-weight: bold; text-align: right;\">3</td><td style = \"text-align: right;\">2</td><td style = \"text-align: left;\">Comedy</td><td style = \"text-align: left;\">$</td><td style = \"text-align: right;\">1971</td><td style = \"text-align: right;\">6.4</td></tr><tr><td class = \"rowNumber\" style = \"font-weight: bold; text-align: right;\">4</td><td style = \"text-align: right;\">2</td><td style = \"text-align: left;\">Crime</td><td style = \"text-align: left;\">$</td><td style = \"text-align: right;\">1971</td><td style = \"text-align: right;\">6.4</td></tr><tr><td class = \"rowNumber\" style = \"font-weight: bold; text-align: right;\">5</td><td style = \"text-align: right;\">5</td><td style = \"text-align: left;\">Western</td><td style = \"text-align: left;\">$1,000 Reward</td><td style = \"text-align: right;\">1923</td><td style = \"text-align: right;\">0.0</td></tr><tr><td class = \"rowNumber\" style = \"font-weight: bold; text-align: right;\">6</td><td style = \"text-align: right;\">6</td><td style = \"text-align: left;\">Comedy</td><td style = \"text-align: left;\">$1,000,000 Duck</td><td style = \"text-align: right;\">1971</td><td style = \"text-align: right;\">5.0</td></tr><tr><td class = \"rowNumber\" style = \"font-weight: bold; text-align: right;\">7</td><td style = \"text-align: right;\">6</td><td style = \"text-align: left;\">Family</td><td style = \"text-align: left;\">$1,000,000 Duck</td><td style = \"text-align: right;\">1971</td><td style = \"text-align: right;\">5.0</td></tr><tr><td class = \"rowNumber\" style = \"font-weight: bold; text-align: right;\">8</td><td style = \"text-align: right;\">8</td><td style = \"text-align: left;\">Animation</td><td style = \"text-align: left;\">$10,000 Under a Pillow</td><td style = \"text-align: right;\">1921</td><td style = \"text-align: right;\">0.0</td></tr><tr><td class = \"rowNumber\" style = \"font-weight: bold; text-align: right;\">9</td><td style = \"text-align: right;\">8</td><td style = \"text-align: left;\">Comedy</td><td style = \"text-align: left;\">$10,000 Under a Pillow</td><td style = \"text-align: right;\">1921</td><td style = \"text-align: right;\">0.0</td></tr><tr><td class = \"rowNumber\" style = \"font-weight: bold; text-align: right;\">10</td><td style = \"text-align: right;\">8</td><td style = \"text-align: left;\">Short</td><td style = \"text-align: left;\">$10,000 Under a Pillow</td><td style = \"text-align: right;\">1921</td><td style = \"text-align: right;\">0.0</td></tr><tr><td class = \"rowNumber\" style = \"font-weight: bold; text-align: right;\">11</td><td style = \"text-align: right;\">9</td><td style = \"text-align: left;\">Drama</td><td style = \"text-align: left;\">$100,000.00</td><td style = \"text-align: right;\">1915</td><td style = \"text-align: right;\">0.0</td></tr><tr><td class = \"rowNumber\" style = \"font-weight: bold; text-align: right;\">12</td><td style = \"text-align: right;\">10</td><td style = \"text-align: left;\">Family</td><td style = \"text-align: left;\">$100,000 Pyramid, The</td><td style = \"text-align: right;\">2001</td><td style = \"text-align: right;\">0.0</td></tr><tr><td class = \"rowNumber\" style = \"font-weight: bold; text-align: right;\">13</td><td style = \"text-align: right;\">11</td><td style = \"text-align: left;\">Comedy</td><td style = \"text-align: left;\">$1000 a Touchdown</td><td style = \"text-align: right;\">1939</td><td style = \"text-align: right;\">6.7</td></tr><tr><td style = \"text-align: right;\">&vellip;</td><td style = \"text-align: right;\">&vellip;</td><td style = \"text-align: right;\">&vellip;</td><td style = \"text-align: right;\">&vellip;</td><td style = \"text-align: right;\">&vellip;</td><td style = \"text-align: right;\">&vellip;</td></tr><tr><td class = \"rowNumber\" style = \"font-weight: bold; text-align: right;\">395108</td><td style = \"text-align: right;\">378607</td><td style = \"text-align: left;\">Drama</td><td style = \"text-align: left;\"> fkeli gen</td><td style = \"text-align: right;\">1963</td><td style = \"text-align: right;\">0.0</td></tr><tr><td class = \"rowNumber\" style = \"font-weight: bold; text-align: right;\">395109</td><td style = \"text-align: right;\">378608</td><td style = \"text-align: left;\">Drama</td><td style = \"text-align: left;\">nc gz</td><td style = \"text-align: right;\">1988</td><td style = \"text-align: right;\">0.0</td></tr><tr><td class = \"rowNumber\" style = \"font-weight: bold; text-align: right;\">395110</td><td style = \"text-align: right;\">378608</td><td style = \"text-align: left;\">Fantasy</td><td style = \"text-align: left;\">nc gz</td><td style = \"text-align: right;\">1988</td><td style = \"text-align: right;\">0.0</td></tr><tr><td class = \"rowNumber\" style = \"font-weight: bold; text-align: right;\">395111</td><td style = \"text-align: right;\">378609</td><td style = \"text-align: left;\">Crime</td><td style = \"text-align: left;\">nc kat cinayeti</td><td style = \"text-align: right;\">1954</td><td style = \"text-align: right;\">0.0</td></tr><tr><td class = \"rowNumber\" style = \"font-weight: bold; text-align: right;\">395112</td><td style = \"text-align: right;\">378610</td><td style = \"text-align: left;\">Drama</td><td style = \"text-align: left;\">nc sayfa</td><td style = \"text-align: right;\">1999</td><td style = \"text-align: right;\">7.0</td></tr><tr><td class = \"rowNumber\" style = \"font-weight: bold; text-align: right;\">395113</td><td style = \"text-align: right;\">378611</td><td style = \"text-align: left;\">Drama</td><td style = \"text-align: left;\">nc Selim&apos;in gzdesi</td><td style = \"text-align: right;\">1950</td><td style = \"text-align: right;\">0.0</td></tr><tr><td class = \"rowNumber\" style = \"font-weight: bold; text-align: right;\">395114</td><td style = \"text-align: right;\">378611</td><td style = \"text-align: left;\">Romance</td><td style = \"text-align: left;\">nc Selim&apos;in gzdesi</td><td style = \"text-align: right;\">1950</td><td style = \"text-align: right;\">0.0</td></tr><tr><td class = \"rowNumber\" style = \"font-weight: bold; text-align: right;\">395115</td><td style = \"text-align: right;\">378612</td><td style = \"text-align: left;\">Adventure</td><td style = \"text-align: left;\">nz de mihlarim</td><td style = \"text-align: right;\">1965</td><td style = \"text-align: right;\">0.0</td></tr><tr><td class = \"rowNumber\" style = \"font-weight: bold; text-align: right;\">395116</td><td style = \"text-align: right;\">378612</td><td style = \"text-align: left;\">Drama</td><td style = \"text-align: left;\">nz de mihlarim</td><td style = \"text-align: right;\">1965</td><td style = \"text-align: right;\">0.0</td></tr><tr><td class = \"rowNumber\" style = \"font-weight: bold; text-align: right;\">395117</td><td style = \"text-align: right;\">378613</td><td style = \"text-align: left;\">Comedy</td><td style = \"text-align: left;\">egar a gerist</td><td style = \"text-align: right;\">1998</td><td style = \"text-align: right;\">0.0</td></tr><tr><td class = \"rowNumber\" style = \"font-weight: bold; text-align: right;\">395118</td><td style = \"text-align: right;\">378613</td><td style = \"text-align: left;\">Drama</td><td style = \"text-align: left;\">egar a gerist</td><td style = \"text-align: right;\">1998</td><td style = \"text-align: right;\">0.0</td></tr><tr><td class = \"rowNumber\" style = \"font-weight: bold; text-align: right;\">395119</td><td style = \"text-align: right;\">378614</td><td style = \"text-align: left;\">Comedy</td><td style = \"text-align: left;\">. 19,99</td><td style = \"text-align: right;\">1998</td><td style = \"text-align: right;\">6.3</td></tr></tbody></table></div>"
            ],
            "text/latex": "\\begin{tabular}{r|ccccc}\n\t& movie\\_id & genre & name & year & rank\\\\\n\t\\hline\n\t& Int64 & String15 & String & Int64 & Float64\\\\\n\t\\hline\n\t1 & 1 & Documentary & \\#7 Train: An Immigrant Journey, The & 2000 & 0.0 \\\\\n\t2 & 1 & Short & \\#7 Train: An Immigrant Journey, The & 2000 & 0.0 \\\\\n\t3 & 2 & Comedy & \\$ & 1971 & 6.4 \\\\\n\t4 & 2 & Crime & \\$ & 1971 & 6.4 \\\\\n\t5 & 5 & Western & \\$1,000 Reward & 1923 & 0.0 \\\\\n\t6 & 6 & Comedy & \\$1,000,000 Duck & 1971 & 5.0 \\\\\n\t7 & 6 & Family & \\$1,000,000 Duck & 1971 & 5.0 \\\\\n\t8 & 8 & Animation & \\$10,000 Under a Pillow & 1921 & 0.0 \\\\\n\t9 & 8 & Comedy & \\$10,000 Under a Pillow & 1921 & 0.0 \\\\\n\t10 & 8 & Short & \\$10,000 Under a Pillow & 1921 & 0.0 \\\\\n\t11 & 9 & Drama & \\$100,000.00 & 1915 & 0.0 \\\\\n\t12 & 10 & Family & \\$100,000 Pyramid, The & 2001 & 0.0 \\\\\n\t13 & 11 & Comedy & \\$1000 a Touchdown & 1939 & 6.7 \\\\\n\t14 & 12 & Crime & \\$20,000 Carat, The & 1913 & 0.0 \\\\\n\t15 & 12 & Drama & \\$20,000 Carat, The & 1913 & 0.0 \\\\\n\t16 & 12 & Short & \\$20,000 Carat, The & 1913 & 0.0 \\\\\n\t17 & 13 & Animation & \\$21 a Day Once a Month & 1941 & 0.0 \\\\\n\t18 & 13 & Short & \\$21 a Day Once a Month & 1941 & 0.0 \\\\\n\t19 & 14 & Drama & \\$2500 Bride, The & 1912 & 0.0 \\\\\n\t20 & 14 & Romance & \\$2500 Bride, The & 1912 & 0.0 \\\\\n\t21 & 14 & Short & \\$2500 Bride, The & 1912 & 0.0 \\\\\n\t22 & 15 & Comedy & \\$30.00 & 1999 & 7.5 \\\\\n\t23 & 15 & Short & \\$30.00 & 1999 & 7.5 \\\\\n\t24 & 17 & Short & \\$300 y tickets & 2002 & 0.0 \\\\\n\t25 & 18 & Comedy & \\$40,000.00 & 1996 & 9.6 \\\\\n\t26 & 19 & Mystery & \\$5,000 Reward & 1918 & 0.0 \\\\\n\t27 & 20 & Crime & \\$5,000,000 Counterfeiting Plot, The & 1914 & 0.0 \\\\\n\t28 & 20 & Thriller & \\$5,000,000 Counterfeiting Plot, The & 1914 & 0.0 \\\\\n\t29 & 21 & Comedy & \\$5.15/Hr. & 2004 & 0.0 \\\\\n\t30 & 21 & Drama & \\$5.15/Hr. & 2004 & 0.0 \\\\\n\t$\\dots$ & $\\dots$ & $\\dots$ & $\\dots$ & $\\dots$ & $\\dots$ \\\\\n\\end{tabular}\n"
          },
          "metadata": {},
          "execution_count": 13
        }
      ]
    },
    {
      "cell_type": "markdown",
      "metadata": {
        "id": "JJefynWBfjpe"
      },
      "source": [
        "To make things simple for the rest of the notebook, let's *join* some of these dataframes together in order to have one DataFrame with information from both `imdb_movies` and `imdb_directories` together in a single DataFrame called `imdb_movies_directors` and extend that logic to making `imdb_movies_directors_genres` and `imdb_movies_genres`."
      ]
    },
    {
      "cell_type": "code",
      "source": [
        "## This is what it would look like to do this with Pandas.\n",
        "#imdb_movies_directors_genres = imdb_movies_genres.merge(imdb_movies).merge(imdb_movies_directors).merge(imdb_directors)\n",
        "#imdb_movies_genres = imdb_movies_genres.merge(imdb_movies)\n",
        "#imdb_movies_directors = imdb_movies_directors.merge(imdb_movies).merge(imdb_directors)\n",
        "\n",
        "## How would you do it in Julia??\n",
        "imdb_movies_directors_genres\n",
        "imdb_movies_genres\n",
        "imdb_movies_directors"
      ],
      "metadata": {
        "id": "ChTeQ6E7ohF8"
      },
      "execution_count": 17,
      "outputs": []
    },
    {
      "cell_type": "markdown",
      "source": [
        "For our exercises, there are now 5 Julia DataFrames,\n",
        "```\n",
        "imdb_movies\n",
        "imdb_directors\n",
        "imdb_movies_directors\n",
        "imdb_movies_genres\n",
        "imdb_movies_directors_genres\n",
        "```"
      ],
      "metadata": {
        "id": "ixHbiGYEn1XS"
      }
    },
    {
      "cell_type": "markdown",
      "metadata": {
        "id": "8JGbUNitfjpe"
      },
      "source": [
        "## Problem 1) Simple Queries"
      ]
    },
    {
      "cell_type": "markdown",
      "metadata": {
        "id": "5sk5qszQ1dep"
      },
      "source": [
        "**Problem 1a**\n",
        "\n",
        "* SELECT 10 movies from the imbd_movies table\n",
        "* Select 10 directors from imbd_directors and order by `first_name`."
      ]
    },
    {
      "cell_type": "code",
      "execution_count": 16,
      "metadata": {
        "id": "L74MXbk0fjpf"
      },
      "outputs": [],
      "source": []
    },
    {
      "cell_type": "markdown",
      "metadata": {
        "id": "HbXxzqtNfjpf"
      },
      "source": [
        "*write your answer here*"
      ]
    },
    {
      "cell_type": "markdown",
      "metadata": {
        "id": "7GUN1fIXfjpg"
      },
      "source": [
        "**Problem 1b**\n",
        "\n",
        "* How many movies are there?\n",
        "* How many directors are there?"
      ]
    },
    {
      "cell_type": "code",
      "execution_count": null,
      "metadata": {
        "id": "h49wXcScfjpg"
      },
      "outputs": [],
      "source": []
    },
    {
      "cell_type": "markdown",
      "metadata": {
        "id": "81ZFGa9bfjpg"
      },
      "source": [
        "*write your answer here*"
      ]
    },
    {
      "cell_type": "markdown",
      "metadata": {
        "id": "2cahcw03fjpg"
      },
      "source": [
        "**Problem 1c**\n",
        "\n",
        "Determine how many movies are there after the year 2000?"
      ]
    },
    {
      "cell_type": "code",
      "execution_count": null,
      "metadata": {
        "id": "z0JJq25Hfjph"
      },
      "outputs": [],
      "source": []
    },
    {
      "cell_type": "markdown",
      "metadata": {
        "id": "Za3hbKEafjph"
      },
      "source": [
        "*write your answer here*"
      ]
    },
    {
      "cell_type": "markdown",
      "metadata": {
        "id": "VH_6mCp3fjph"
      },
      "source": [
        "**Problem 1d**\n",
        "\n",
        "How many different movie genres are there?"
      ]
    },
    {
      "cell_type": "code",
      "execution_count": null,
      "metadata": {
        "id": "sfI-AMXefjph"
      },
      "outputs": [],
      "source": []
    },
    {
      "cell_type": "markdown",
      "metadata": {
        "id": "73K0Gv20fjph"
      },
      "source": [
        "*write your answer here*"
      ]
    },
    {
      "cell_type": "markdown",
      "metadata": {
        "id": "JAbetmTPfjph"
      },
      "source": [
        "## Problem 2) Groups and Aggregates"
      ]
    },
    {
      "cell_type": "markdown",
      "metadata": {
        "id": "L_J8QDKnfjpi"
      },
      "source": [
        "**Problem 2a**\n",
        "\n",
        "In which year were the most movies made according to IMDb?"
      ]
    },
    {
      "cell_type": "code",
      "execution_count": null,
      "metadata": {
        "id": "ShN6MFYqfjpi"
      },
      "outputs": [],
      "source": []
    },
    {
      "cell_type": "markdown",
      "metadata": {
        "id": "QPkXXAlofjpi"
      },
      "source": [
        "*write your answer here*"
      ]
    },
    {
      "cell_type": "markdown",
      "metadata": {
        "id": "QyM_SXxRfjpi"
      },
      "source": [
        "**Problem 2b**\n",
        "\n",
        "How many \"Action\" movies where made after the year 1980? Before the year 1980?"
      ]
    },
    {
      "cell_type": "code",
      "execution_count": null,
      "metadata": {
        "id": "DsqRyEYdfjpi"
      },
      "outputs": [],
      "source": []
    },
    {
      "cell_type": "markdown",
      "metadata": {
        "id": "O86KceKlfjpj"
      },
      "source": [
        "*write your answer here*"
      ]
    },
    {
      "cell_type": "markdown",
      "metadata": {
        "id": "ssK1akHLfjpj"
      },
      "source": [
        "**Problem 2c**\n",
        "\n",
        "Select all films made by `Scorsese`. How many are there?"
      ]
    },
    {
      "cell_type": "code",
      "execution_count": null,
      "metadata": {
        "id": "kyTX98Nlfjpj"
      },
      "outputs": [],
      "source": []
    },
    {
      "cell_type": "markdown",
      "metadata": {
        "id": "ezB-4TPAfjpk"
      },
      "source": [
        "*write your answer here*"
      ]
    },
    {
      "cell_type": "markdown",
      "metadata": {
        "id": "Dp6r51nufjpk"
      },
      "source": [
        "**Problem 2d**\n",
        "\n",
        "According the the IMDb data, which director has directed the most movies?"
      ]
    },
    {
      "cell_type": "code",
      "execution_count": null,
      "metadata": {
        "id": "20GMpAY1fjpk"
      },
      "outputs": [],
      "source": []
    },
    {
      "cell_type": "markdown",
      "metadata": {
        "id": "vV1qQQVXfjpk"
      },
      "source": [
        "*write your answer here*"
      ]
    },
    {
      "cell_type": "markdown",
      "metadata": {
        "id": "O64AlDhGfjpk"
      },
      "source": [
        "**Problem 2e**\n",
        "\n",
        "According the the IMDb data, which director has directed the most movies in each genre?"
      ]
    },
    {
      "cell_type": "code",
      "execution_count": null,
      "metadata": {
        "id": "PhxPWDWlfjpl"
      },
      "outputs": [],
      "source": []
    },
    {
      "cell_type": "markdown",
      "metadata": {
        "id": "r6peO424fjpl"
      },
      "source": [
        "*write your answer here*"
      ]
    }
  ],
  "metadata": {
    "colab": {
      "provenance": []
    },
    "kernelspec": {
      "display_name": "julia 1.9.3",
      "name": "julia"
    }
  },
  "nbformat": 4,
  "nbformat_minor": 0
}