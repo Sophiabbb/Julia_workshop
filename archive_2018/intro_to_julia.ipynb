{
 "cells": [
  {
   "cell_type": "markdown",
   "metadata": {},
   "source": [
    "# Introduction to Julia Language"
   ]
  },
  {
   "cell_type": "markdown",
   "metadata": {},
   "source": [
    "## -1. Prerequisites: Installing Julia"
   ]
  },
  {
   "cell_type": "markdown",
   "metadata": {},
   "source": [
    "### Install Julia\n",
    "\n",
    "- Download [Julia](https://julialang.org/downloads/) for your platform. \n",
    "\n",
    "\n",
    "### Install Jupyter Notebook\n",
    "\n",
    "- In Julia prompt, run:\n",
    "\n",
    "```julia\n",
    "Pkg.add(“IJulia”)\n",
    "```\n",
    "\n",
    "### Instant Julia\n",
    "\n",
    "- Go to [juliabox.com](https://juliabox.com) and use Julia from web browser "
   ]
  },
  {
   "cell_type": "markdown",
   "metadata": {},
   "source": [
    "## 0. Introduction"
   ]
  },
  {
   "cell_type": "markdown",
   "metadata": {},
   "source": [
    "### What is Julia\n",
    "\n",
    "- Julia is a high-level, high-performance dynamic programming language for **numerical computing**.\n",
    "\n",
    "### Why Julia\n",
    "\n",
    "- Free and open source (MIT licensed)\n",
    "- Dynamic programming language: compiling not  \n",
    "- Fast: speed comparable to C!"
   ]
  },
  {
   "cell_type": "markdown",
   "metadata": {},
   "source": [
    "## 1. Language Basics"
   ]
  },
  {
   "cell_type": "markdown",
   "metadata": {},
   "source": [
    "Let's get in the world of Julia with \"Hello World!\""
   ]
  },
  {
   "cell_type": "code",
   "execution_count": 1,
   "metadata": {},
   "outputs": [
    {
     "name": "stdout",
     "output_type": "stream",
     "text": [
      "Hello world!\n"
     ]
    }
   ],
   "source": [
    "println(\"Hello world!\")"
   ]
  },
  {
   "cell_type": "markdown",
   "metadata": {},
   "source": [
    "What does println() do? A quick way to learn about Julia's basic functions is to ask for help from the language itself. "
   ]
  },
  {
   "cell_type": "code",
   "execution_count": 2,
   "metadata": {},
   "outputs": [
    {
     "data": {
      "text/markdown": [
       "```\n",
       "println(io::IO, xs...)\n",
       "```\n",
       "\n",
       "Print (using [`print`](@ref)) `xs` followed by a newline. If `io` is not supplied, prints to [`STDOUT`](@ref).\n"
      ],
      "text/plain": [
       "```\n",
       "println(io::IO, xs...)\n",
       "```\n",
       "\n",
       "Print (using [`print`](@ref)) `xs` followed by a newline. If `io` is not supplied, prints to [`STDOUT`](@ref).\n"
      ]
     },
     "execution_count": 2,
     "metadata": {},
     "output_type": "execute_result"
    }
   ],
   "source": [
    "?println()"
   ]
  },
  {
   "cell_type": "markdown",
   "metadata": {},
   "source": [
    "Even if you don't know the exact function name, Julia help will show you closest matches"
   ]
  },
  {
   "cell_type": "code",
   "execution_count": 3,
   "metadata": {},
   "outputs": [
    {
     "name": "stdout",
     "output_type": "stream",
     "text": [
      "search: \u001b[1mp\u001b[22m\u001b[1mr\u001b[22m\u001b[1mi\u001b[22m\u001b[1mn\u001b[22mt \u001b[1mp\u001b[22m\u001b[1mr\u001b[22m\u001b[1mi\u001b[22m\u001b[1mn\u001b[22mtln \u001b[1mp\u001b[22m\u001b[1mr\u001b[22m\u001b[1mi\u001b[22m\u001b[1mn\u001b[22mt_shortest \u001b[1mp\u001b[22m\u001b[1mr\u001b[22m\u001b[1mi\u001b[22m\u001b[1mn\u001b[22mt_with_color s\u001b[1mp\u001b[22m\u001b[1mr\u001b[22m\u001b[1mi\u001b[22m\u001b[1mn\u001b[22mt @\u001b[1mp\u001b[22m\u001b[1mr\u001b[22m\u001b[1mi\u001b[22m\u001b[1mn\u001b[22mtf is\u001b[1mp\u001b[22m\u001b[1mr\u001b[22m\u001b[1mi\u001b[22m\u001b[1mn\u001b[22mt\n",
      "\n",
      "Couldn't find \u001b[36mprin\n",
      "\u001b[39mPerhaps you meant print, sprint, prod, pi, pinv, asin, bin, in, join or kron\n"
     ]
    },
    {
     "data": {
      "text/markdown": [
       "No documentation found.\n",
       "\n",
       "Binding `prin` does not exist.\n"
      ],
      "text/plain": [
       "No documentation found.\n",
       "\n",
       "Binding `prin` does not exist.\n"
      ]
     },
     "execution_count": 3,
     "metadata": {},
     "output_type": "execute_result"
    }
   ],
   "source": [
    "?prin"
   ]
  },
  {
   "cell_type": "code",
   "execution_count": 4,
   "metadata": {},
   "outputs": [],
   "source": [
    "# We can comment out lines using `#`"
   ]
  },
  {
   "cell_type": "markdown",
   "metadata": {},
   "source": [
    "### Arithmetic Operations"
   ]
  },
  {
   "cell_type": "markdown",
   "metadata": {},
   "source": [
    "Julia provides a complete collection of basic arithmetic operators across all of its numeric primitive types. It also includes a comprehensive collection of standard mathematical functions."
   ]
  },
  {
   "cell_type": "code",
   "execution_count": 5,
   "metadata": {},
   "outputs": [
    {
     "data": {
      "text/plain": [
       "12"
      ]
     },
     "execution_count": 5,
     "metadata": {},
     "output_type": "execute_result"
    }
   ],
   "source": [
    "5+7"
   ]
  },
  {
   "cell_type": "code",
   "execution_count": 6,
   "metadata": {},
   "outputs": [
    {
     "data": {
      "text/plain": [
       "12"
      ]
     },
     "execution_count": 6,
     "metadata": {},
     "output_type": "execute_result"
    }
   ],
   "source": [
    "ans"
   ]
  },
  {
   "cell_type": "markdown",
   "metadata": {},
   "source": [
    "The variable \"ans\" is bound to the last evaluated expression in interactive session"
   ]
  },
  {
   "cell_type": "code",
   "execution_count": 7,
   "metadata": {},
   "outputs": [
    {
     "data": {
      "text/plain": [
       "18"
      ]
     },
     "execution_count": 7,
     "metadata": {},
     "output_type": "execute_result"
    }
   ],
   "source": [
    "ans+6 "
   ]
  },
  {
   "cell_type": "markdown",
   "metadata": {},
   "source": [
    "This is equivalent to `ans=ans+6`"
   ]
  },
  {
   "cell_type": "code",
   "execution_count": 8,
   "metadata": {},
   "outputs": [
    {
     "data": {
      "text/plain": [
       "18"
      ]
     },
     "execution_count": 8,
     "metadata": {},
     "output_type": "execute_result"
    }
   ],
   "source": [
    "ans"
   ]
  },
  {
   "cell_type": "markdown",
   "metadata": {},
   "source": [
    "Let's print some more aritmetic operations"
   ]
  },
  {
   "cell_type": "code",
   "execution_count": 9,
   "metadata": {},
   "outputs": [
    {
     "name": "stdout",
     "output_type": "stream",
     "text": [
      "285.61\n",
      "2\n",
      "Inf\n",
      "NaN NaN\n"
     ]
    }
   ],
   "source": [
    "println(13^4/100)\n",
    "println(13%4*2)\n",
    "println(1/0 - 1000000)\n",
    "println(0/0,\" \", Inf/Inf)"
   ]
  },
  {
   "cell_type": "markdown",
   "metadata": {},
   "source": [
    "Operator precedence is consistent with other prevalent languages"
   ]
  },
  {
   "cell_type": "markdown",
   "metadata": {},
   "source": [
    "Comparisons can be done for numerical types"
   ]
  },
  {
   "cell_type": "code",
   "execution_count": 10,
   "metadata": {},
   "outputs": [
    {
     "data": {
      "text/plain": [
       "(true, false, true, true)"
      ]
     },
     "execution_count": 10,
     "metadata": {},
     "output_type": "execute_result"
    }
   ],
   "source": [
    "1==1, 1<=-1, 1!=300, -0>=0"
   ]
  },
  {
   "cell_type": "code",
   "execution_count": 11,
   "metadata": {},
   "outputs": [
    {
     "data": {
      "text/plain": [
       "(false, true, true)"
      ]
     },
     "execution_count": 11,
     "metadata": {},
     "output_type": "execute_result"
    }
   ],
   "source": [
    "Inf==1, Inf>10e100, -Inf<-10e100"
   ]
  },
  {
   "cell_type": "code",
   "execution_count": 12,
   "metadata": {
    "scrolled": true
   },
   "outputs": [
    {
     "data": {
      "text/plain": [
       "(false, true, false, false)"
      ]
     },
     "execution_count": 12,
     "metadata": {},
     "output_type": "execute_result"
    }
   ],
   "source": [
    "NaN==NaN, NaN!=NaN, NaN<Inf, NaN>-Inf"
   ]
  },
  {
   "cell_type": "code",
   "execution_count": 13,
   "metadata": {},
   "outputs": [
    {
     "data": {
      "text/plain": [
       "Float64"
      ]
     },
     "execution_count": 13,
     "metadata": {},
     "output_type": "execute_result"
    }
   ],
   "source": [
    "typeof(NaN)"
   ]
  },
  {
   "cell_type": "markdown",
   "metadata": {},
   "source": [
    "Comparisons can be chained. These comparisons use && operator for scalar comparisons. "
   ]
  },
  {
   "cell_type": "code",
   "execution_count": 14,
   "metadata": {},
   "outputs": [
    {
     "data": {
      "text/plain": [
       "true"
      ]
     },
     "execution_count": 14,
     "metadata": {},
     "output_type": "execute_result"
    }
   ],
   "source": [
    "1 < 2 > 0 != 100 # > 500"
   ]
  },
  {
   "cell_type": "markdown",
   "metadata": {},
   "source": [
    "### Numbers and types in Julia "
   ]
  },
  {
   "cell_type": "markdown",
   "metadata": {},
   "source": [
    "Let's have a second look at the numeric types in Julia"
   ]
  },
  {
   "cell_type": "code",
   "execution_count": 15,
   "metadata": {},
   "outputs": [
    {
     "data": {
      "text/plain": [
       "Int64"
      ]
     },
     "execution_count": 15,
     "metadata": {},
     "output_type": "execute_result"
    }
   ],
   "source": [
    "typeof(1)"
   ]
  },
  {
   "cell_type": "code",
   "execution_count": 16,
   "metadata": {},
   "outputs": [
    {
     "data": {
      "text/markdown": [
       "```\n",
       "typeof(x)\n",
       "```\n",
       "\n",
       "Get the concrete type of `x`.\n"
      ],
      "text/plain": [
       "```\n",
       "typeof(x)\n",
       "```\n",
       "\n",
       "Get the concrete type of `x`.\n"
      ]
     },
     "execution_count": 16,
     "metadata": {},
     "output_type": "execute_result"
    }
   ],
   "source": [
    "?typeof()"
   ]
  },
  {
   "cell_type": "code",
   "execution_count": 17,
   "metadata": {},
   "outputs": [
    {
     "name": "stdout",
     "output_type": "stream",
     "text": [
      "0 Int64\n",
      "23.4 Float64\n",
      "true Bool\n"
     ]
    }
   ],
   "source": [
    "#Some more examples of types\n",
    "println(-0,\" \",typeof(-0)) # On x64 machines, always using Int64\n",
    "println(23.4,\" \",typeof(23.4))\n",
    "println(true,\" \",typeof(true))"
   ]
  },
  {
   "cell_type": "code",
   "execution_count": 18,
   "metadata": {},
   "outputs": [
    {
     "name": "stdout",
     "output_type": "stream",
     "text": [
      "31 UInt8\n",
      "300 UInt16\n"
     ]
    }
   ],
   "source": [
    "# UInt use 0x prefix and hexadecimal (base 16) digits 0-9a-f\n",
    "println(0x1f,\" \", typeof(0x1f))\n",
    "println(0x12c,\" \", typeof(0x12c))"
   ]
  },
  {
   "cell_type": "code",
   "execution_count": 19,
   "metadata": {},
   "outputs": [
    {
     "name": "stdout",
     "output_type": "stream",
     "text": [
      "2 UInt8\n",
      "8 UInt8\n"
     ]
    }
   ],
   "source": [
    "# Binary and octal literals are also supported:\n",
    "println(0b10, \" \", typeof(0b10))\n",
    "println(0o10, \" \", typeof(0o10))"
   ]
  },
  {
   "cell_type": "markdown",
   "metadata": {},
   "source": [
    "Complex numbers are supported in Julia"
   ]
  },
  {
   "cell_type": "code",
   "execution_count": 20,
   "metadata": {},
   "outputs": [
    {
     "name": "stdout",
     "output_type": "stream",
     "text": [
      "1 + 2im Complex{Int64}\n",
      "13 + 0im Complex{Int64}\n"
     ]
    }
   ],
   "source": [
    "println(1 + 2im, \" \", typeof(1 + 2im))\n",
    "println((2 + 3im)*(2 - 3im), \" \", typeof((2 + 3im)*(2 - 3im)))"
   ]
  },
  {
   "cell_type": "code",
   "execution_count": 21,
   "metadata": {},
   "outputs": [
    {
     "data": {
      "text/plain": [
       "(2, 3, 2 - 3im, 3.6055512754639896, 13)"
      ]
     },
     "execution_count": 21,
     "metadata": {},
     "output_type": "execute_result"
    }
   ],
   "source": [
    "real(2 + 3im), imag(2 + 3im), conj(2 + 3im), abs(2 + 3im), abs2(2 + 3im)"
   ]
  },
  {
   "cell_type": "markdown",
   "metadata": {},
   "source": [
    "Rational number type to represent exact ratios of integers using \"//\" operator"
   ]
  },
  {
   "cell_type": "code",
   "execution_count": 22,
   "metadata": {},
   "outputs": [
    {
     "data": {
      "text/plain": [
       "(2//3, 0.6666666666666666, true, 0.0, 6.661338147750939e-16)"
      ]
     },
     "execution_count": 22,
     "metadata": {},
     "output_type": "execute_result"
    }
   ],
   "source": [
    "2//3, 2/3, 2//3>2/3, 2//3-2/3, 2//3-0.666666666666666"
   ]
  },
  {
   "cell_type": "code",
   "execution_count": 23,
   "metadata": {},
   "outputs": [
    {
     "data": {
      "text/plain": [
       "Rational{Int64}"
      ]
     },
     "execution_count": 23,
     "metadata": {},
     "output_type": "execute_result"
    }
   ],
   "source": [
    "typeof(2//3)"
   ]
  },
  {
   "cell_type": "code",
   "execution_count": 24,
   "metadata": {},
   "outputs": [
    {
     "data": {
      "text/plain": [
       "(8//3, 7//3)"
      ]
     },
     "execution_count": 24,
     "metadata": {},
     "output_type": "execute_result"
    }
   ],
   "source": [
    "2//3 + 2, 2//3 + 10//6 "
   ]
  },
  {
   "cell_type": "markdown",
   "metadata": {},
   "source": [
    "### Type conversions"
   ]
  },
  {
   "cell_type": "markdown",
   "metadata": {},
   "source": [
    "There is a hierary in numeric types. There are sub- abd super-types. "
   ]
  },
  {
   "cell_type": "markdown",
   "metadata": {},
   "source": [
    "`<img src=\"Type-hierarchy-for-julia-numbers.png\">`"
   ]
  },
  {
   "cell_type": "markdown",
   "metadata": {},
   "source": [
    "<img src=\"Type-hierarchy-for-julia-numbers.png\">"
   ]
  },
  {
   "cell_type": "code",
   "execution_count": 25,
   "metadata": {},
   "outputs": [
    {
     "data": {
      "text/plain": [
       "(12, Int64, 12.0, 12 + 0im)"
      ]
     },
     "execution_count": 25,
     "metadata": {},
     "output_type": "execute_result"
    }
   ],
   "source": [
    "12, typeof(12), convert(Float64,12), convert(Complex{Int64},convert(Float64,12))"
   ]
  },
  {
   "cell_type": "code",
   "execution_count": 26,
   "metadata": {},
   "outputs": [
    {
     "data": {
      "text/plain": [
       "12.0"
      ]
     },
     "execution_count": 26,
     "metadata": {},
     "output_type": "execute_result"
    }
   ],
   "source": [
    "Float64(12)"
   ]
  },
  {
   "cell_type": "markdown",
   "metadata": {},
   "source": [
    "### Elementary functions in Julia "
   ]
  },
  {
   "cell_type": "markdown",
   "metadata": {},
   "source": [
    "We have many standard functions available in Julia"
   ]
  },
  {
   "cell_type": "code",
   "execution_count": 27,
   "metadata": {},
   "outputs": [
    {
     "data": {
      "text/plain": [
       "(0.0 + 2.0im, 2.0, 10.000000000000002, -4.898587196589413e-16, 0.0, 1.0)"
      ]
     },
     "execution_count": 27,
     "metadata": {},
     "output_type": "execute_result"
    }
   ],
   "source": [
    "sqrt(complex(-4)), cbrt(8), exp(log(10)), sin(4*pi), sinpi(4), cospi(0)"
   ]
  },
  {
   "cell_type": "code",
   "execution_count": 28,
   "metadata": {},
   "outputs": [
    {
     "data": {
      "text/plain": [
       "(11.0, 10.0, 5.0, 4)"
      ]
     },
     "execution_count": 28,
     "metadata": {},
     "output_type": "execute_result"
    }
   ],
   "source": [
    "ceil(10.2), round(10.5), floor(5.6), mod(-32,6)"
   ]
  },
  {
   "cell_type": "markdown",
   "metadata": {},
   "source": [
    "### Variables"
   ]
  },
  {
   "cell_type": "markdown",
   "metadata": {},
   "source": [
    "A variable is a name bound to a value. Variables are assigned to values by `=`"
   ]
  },
  {
   "cell_type": "code",
   "execution_count": 29,
   "metadata": {},
   "outputs": [
    {
     "name": "stdout",
     "output_type": "stream",
     "text": [
      "10\n",
      "7//3\n",
      "Hello, World! String\n"
     ]
    }
   ],
   "source": [
    "# Assign values to variable\n",
    "x = 10\n",
    "println(x)\n",
    "\n",
    "y = 2//3\n",
    "println(y*2+1)\n",
    "\n",
    "z = \"Hello, World!\"\n",
    "println(z, \" \" ,typeof(z))"
   ]
  },
  {
   "cell_type": "markdown",
   "metadata": {},
   "source": [
    "There are some standard built-in constants in Julia"
   ]
  },
  {
   "cell_type": "code",
   "execution_count": 30,
   "metadata": {},
   "outputs": [
    {
     "name": "stdout",
     "output_type": "stream",
     "text": [
      "π = 3.1415926535897... e = 2.7182818284590...\n"
     ]
    }
   ],
   "source": [
    "println(pi,\" \", e)"
   ]
  },
  {
   "cell_type": "markdown",
   "metadata": {},
   "source": [
    "Unicode names can be used!!! What!"
   ]
  },
  {
   "cell_type": "code",
   "execution_count": 31,
   "metadata": {},
   "outputs": [
    {
     "name": "stdout",
     "output_type": "stream",
     "text": [
      "0.001 2 π = 3.1415926535897...\n"
     ]
    }
   ],
   "source": [
    "# In many Julia editing environments, Unicode characters are \n",
    "# invoked by issuing TeX commands for them and then pressing Tab\n",
    "# \\beta (hit Tab)\n",
    "β=2\n",
    "δ = 0.001\n",
    "θ = pi\n",
    "println(δ, \" \", β, \" \", θ)"
   ]
  },
  {
   "cell_type": "code",
   "execution_count": 32,
   "metadata": {},
   "outputs": [
    {
     "name": "stdout",
     "output_type": "stream",
     "text": [
      "π = 3.1415926535897...\n"
     ]
    }
   ],
   "source": [
    "println(π) # Built-in"
   ]
  },
  {
   "cell_type": "markdown",
   "metadata": {},
   "source": [
    "We can also learn what type of objects are these variables again by using typeof()"
   ]
  },
  {
   "cell_type": "code",
   "execution_count": 33,
   "metadata": {},
   "outputs": [
    {
     "name": "stdout",
     "output_type": "stream",
     "text": [
      "10 Int64 8\n",
      "2//3 Rational{Int64} 16\n",
      "Hello, World! 13\n",
      "Irrational{:π} 0\n",
      "8\n"
     ]
    }
   ],
   "source": [
    "println(x, \" \", typeof(x), \" \" , sizeof(x))\n",
    "println(y, \" \", typeof(y), \" \" , sizeof(y))\n",
    "println(z, \" \", sizeof(z))\n",
    "println(typeof(pi), \" \" ,sizeof(pi))\n",
    "println(sizeof(δ))"
   ]
  },
  {
   "cell_type": "code",
   "execution_count": 34,
   "metadata": {},
   "outputs": [
    {
     "data": {
      "text/markdown": [
       "```\n",
       "sizeof(s::AbstractString)\n",
       "```\n",
       "\n",
       "The number of bytes in string `s`.\n",
       "\n",
       "# Example\n",
       "\n",
       "```jldoctest\n",
       "julia> sizeof(\"❤\")\n",
       "3\n",
       "```\n",
       "\n",
       "```\n",
       "sizeof(T)\n",
       "```\n",
       "\n",
       "Size, in bytes, of the canonical binary representation of the given DataType `T`, if any.\n",
       "\n",
       "# Examples\n",
       "\n",
       "```jldoctest\n",
       "julia> sizeof(Float32)\n",
       "4\n",
       "\n",
       "julia> sizeof(Complex128)\n",
       "16\n",
       "```\n",
       "\n",
       "If `T` does not have a specific size, an error is thrown.\n",
       "\n",
       "```jldoctest\n",
       "julia> sizeof(Base.LinAlg.LU)\n",
       "ERROR: argument is an abstract type; size is indeterminate\n",
       "Stacktrace:\n",
       " [1] sizeof(::Type{T} where T) at ./essentials.jl:159\n",
       "```\n"
      ],
      "text/plain": [
       "```\n",
       "sizeof(s::AbstractString)\n",
       "```\n",
       "\n",
       "The number of bytes in string `s`.\n",
       "\n",
       "# Example\n",
       "\n",
       "```jldoctest\n",
       "julia> sizeof(\"❤\")\n",
       "3\n",
       "```\n",
       "\n",
       "```\n",
       "sizeof(T)\n",
       "```\n",
       "\n",
       "Size, in bytes, of the canonical binary representation of the given DataType `T`, if any.\n",
       "\n",
       "# Examples\n",
       "\n",
       "```jldoctest\n",
       "julia> sizeof(Float32)\n",
       "4\n",
       "\n",
       "julia> sizeof(Complex128)\n",
       "16\n",
       "```\n",
       "\n",
       "If `T` does not have a specific size, an error is thrown.\n",
       "\n",
       "```jldoctest\n",
       "julia> sizeof(Base.LinAlg.LU)\n",
       "ERROR: argument is an abstract type; size is indeterminate\n",
       "Stacktrace:\n",
       " [1] sizeof(::Type{T} where T) at ./essentials.jl:159\n",
       "```\n"
      ]
     },
     "execution_count": 34,
     "metadata": {},
     "output_type": "execute_result"
    }
   ],
   "source": [
    "?sizeof()"
   ]
  },
  {
   "cell_type": "markdown",
   "metadata": {},
   "source": [
    "If you want to see a global picture of memory usage, whos() command can be used"
   ]
  },
  {
   "cell_type": "code",
   "execution_count": 35,
   "metadata": {},
   "outputs": [
    {
     "name": "stdout",
     "output_type": "stream",
     "text": [
      "                          Base               Module\n",
      "                        Compat  21168 KB     Module\n",
      "                          Core               Module\n",
      "                        IJulia  21301 KB     Module\n",
      "                          JSON  21069 KB     Module\n",
      "                          Main               Module\n",
      "                       MbedTLS  21094 KB     Module\n",
      "                     Nullables   1120 bytes  Module\n",
      "                           ZMQ  21041 KB     Module\n",
      "                             x      8 bytes  Int64\n",
      "                             y     16 bytes  Rational{Int64}\n",
      "                             z     21 bytes  String\n",
      "                             β      8 bytes  Int64\n",
      "                             δ      8 bytes  Float64\n",
      "                             θ      0 bytes  Irrational{:π}\n"
     ]
    }
   ],
   "source": [
    "whos()"
   ]
  },
  {
   "cell_type": "markdown",
   "metadata": {},
   "source": [
    "Julia can use updating operators : `+=  -=  *=  /=  \\=  ÷=  %=  ^=  &=`"
   ]
  },
  {
   "cell_type": "code",
   "execution_count": 36,
   "metadata": {},
   "outputs": [
    {
     "name": "stdout",
     "output_type": "stream",
     "text": [
      "6\n"
     ]
    }
   ],
   "source": [
    "x=1\n",
    "x+=5\n",
    "println(x)"
   ]
  },
  {
   "cell_type": "code",
   "execution_count": 37,
   "metadata": {},
   "outputs": [
    {
     "name": "stdout",
     "output_type": "stream",
     "text": [
      "1\n"
     ]
    }
   ],
   "source": [
    "y=4\n",
    "y%=3\n",
    "println(y)"
   ]
  },
  {
   "cell_type": "markdown",
   "metadata": {},
   "source": [
    "### Strings\n",
    "\n",
    "Strings are finite sequences of characters. The String type in Julia supports the full range of Unicode characters via the UTF-8 encoding. \n",
    "\n",
    "Unlike some dynamic languages (e.g., Python), Julia has a first-class type representing a single character, called Char. \n"
   ]
  },
  {
   "cell_type": "markdown",
   "metadata": {},
   "source": [
    "- Character: Defined by single quotes in Julia"
   ]
  },
  {
   "cell_type": "code",
   "execution_count": 38,
   "metadata": {},
   "outputs": [
    {
     "name": "stdout",
     "output_type": "stream",
     "text": [
      "Char\n"
     ]
    }
   ],
   "source": [
    "println(typeof('x'))"
   ]
  },
  {
   "cell_type": "code",
   "execution_count": 39,
   "metadata": {},
   "outputs": [
    {
     "name": "stdout",
     "output_type": "stream",
     "text": [
      "120 x\n"
     ]
    }
   ],
   "source": [
    "# ASCII code of 'x'\n",
    "println(Int('x'),\" \",Char(120)) "
   ]
  },
  {
   "cell_type": "markdown",
   "metadata": {},
   "source": [
    "- Unicode characters"
   ]
  },
  {
   "cell_type": "code",
   "execution_count": 40,
   "metadata": {
    "scrolled": true
   },
   "outputs": [
    {
     "name": "stdout",
     "output_type": "stream",
     "text": [
      "∀\n"
     ]
    }
   ],
   "source": [
    "println('\\u2200') #Unicode \"For All\" character "
   ]
  },
  {
   "cell_type": "markdown",
   "metadata": {},
   "source": [
    "- String basics: Defined by double quotes in Julia"
   ]
  },
  {
   "cell_type": "code",
   "execution_count": 41,
   "metadata": {},
   "outputs": [
    {
     "name": "stdout",
     "output_type": "stream",
     "text": [
      "H\n",
      "!\n",
      "d\n",
      "lo, wo\n"
     ]
    }
   ],
   "source": [
    "str = \"Hello, world!\"\n",
    "\n",
    "println(str[1]) # Array like objects has index starting from 1, not 0\n",
    "println(str[end])\n",
    "println(str[end-1])\n",
    "println(str[4:9])"
   ]
  },
  {
   "cell_type": "markdown",
   "metadata": {},
   "source": [
    "- Unicode string"
   ]
  },
  {
   "cell_type": "code",
   "execution_count": 42,
   "metadata": {},
   "outputs": [
    {
     "name": "stdout",
     "output_type": "stream",
     "text": [
      "∀x, ∃y\n",
      "∀\n",
      "x\n",
      "y\n"
     ]
    }
   ],
   "source": [
    "str = \"\\u2200x, \\u2203y\"\n",
    "println(str)\n",
    "println(str[1])\n",
    "println(str[4])\n",
    "println(str[10])\n"
   ]
  },
  {
   "cell_type": "code",
   "execution_count": 43,
   "metadata": {},
   "outputs": [
    {
     "data": {
      "text/plain": [
       "String"
      ]
     },
     "execution_count": 43,
     "metadata": {},
     "output_type": "execute_result"
    }
   ],
   "source": [
    "typeof(str)"
   ]
  },
  {
   "cell_type": "markdown",
   "metadata": {},
   "source": [
    "- Concatenation: In Julia, concatenation can be done with `string()` function"
   ]
  },
  {
   "cell_type": "code",
   "execution_count": 44,
   "metadata": {
    "scrolled": true
   },
   "outputs": [
    {
     "name": "stdout",
     "output_type": "stream",
     "text": [
      "Hello, world.\n",
      "\n"
     ]
    },
    {
     "data": {
      "text/plain": [
       "14"
      ]
     },
     "execution_count": 44,
     "metadata": {},
     "output_type": "execute_result"
    }
   ],
   "source": [
    "greet = \"Hello\"\n",
    "whom = \"world\"\n",
    "str = string(greet, \", \", whom, \".\\n\")\n",
    "println(str)\n",
    "length(str)"
   ]
  },
  {
   "cell_type": "code",
   "execution_count": 45,
   "metadata": {},
   "outputs": [
    {
     "data": {
      "text/plain": [
       "8"
      ]
     },
     "execution_count": 45,
     "metadata": {},
     "output_type": "execute_result"
    }
   ],
   "source": [
    "search(str,'w') #Search for a character in the string. \n",
    "#contains() can also be used to check if a substring exists in the main string"
   ]
  },
  {
   "cell_type": "code",
   "execution_count": 46,
   "metadata": {},
   "outputs": [
    {
     "data": {
      "text/plain": [
       "2-element Array{SubString{String},1}:\n",
       " \"Hello,\"\n",
       " \"world.\""
      ]
     },
     "execution_count": 46,
     "metadata": {},
     "output_type": "execute_result"
    }
   ],
   "source": [
    "split(str) #splits into words seperated by white space"
   ]
  },
  {
   "cell_type": "code",
   "execution_count": 47,
   "metadata": {},
   "outputs": [
    {
     "name": "stdout",
     "output_type": "stream",
     "text": [
      "Hello, julia.\n",
      "\n"
     ]
    }
   ],
   "source": [
    "# Concatenation Using *\n",
    "whom = \"julia\"\n",
    "str = greet * \", \" * whom * \".\\n\"\n",
    "println(str)"
   ]
  },
  {
   "cell_type": "markdown",
   "metadata": {},
   "source": [
    "- Interpolation"
   ]
  },
  {
   "cell_type": "code",
   "execution_count": 48,
   "metadata": {},
   "outputs": [
    {
     "name": "stdout",
     "output_type": "stream",
     "text": [
      "Hello, RCS.\n",
      "\n"
     ]
    }
   ],
   "source": [
    "# Interpolation\n",
    "greet = \"Hello\"\n",
    "whom = \"RCS\"\n",
    "str1 = \"$greet, $whom.\\n\"\n",
    "println(str1)"
   ]
  },
  {
   "cell_type": "code",
   "execution_count": 49,
   "metadata": {},
   "outputs": [
    {
     "name": "stdout",
     "output_type": "stream",
     "text": [
      "1 + 2 = 3\n"
     ]
    }
   ],
   "source": [
    "println(\"1 + 2 = $(1 + 2)\")"
   ]
  },
  {
   "cell_type": "code",
   "execution_count": 50,
   "metadata": {},
   "outputs": [
    {
     "data": {
      "text/plain": [
       "(\"v: [1, 2, 3]\", String)"
      ]
     },
     "execution_count": 50,
     "metadata": {},
     "output_type": "execute_result"
    }
   ],
   "source": [
    "v = [1,2,3]\n",
    "\"v: $v\", typeof(\"v: $v\")"
   ]
  },
  {
   "cell_type": "code",
   "execution_count": 51,
   "metadata": {
    "scrolled": true
   },
   "outputs": [
    {
     "name": "stdout",
     "output_type": "stream",
     "text": [
      "Hello,\n",
      "world!\n",
      "Hello,\n",
      "Julia!\n",
      "\n"
     ]
    }
   ],
   "source": [
    "# Triple-Quoted String Literals\n",
    "\n",
    "str = \"\"\"\n",
    "Hello,\n",
    "world!\n",
    "Hello,\n",
    "Julia!\n",
    "\"\"\"\n",
    "println(str)\n",
    "\n"
   ]
  },
  {
   "cell_type": "code",
   "execution_count": 52,
   "metadata": {},
   "outputs": [
    {
     "name": "stdout",
     "output_type": "stream",
     "text": [
      "true\n"
     ]
    }
   ],
   "source": [
    "# Regular expressions\n",
    "\n",
    "println(ismatch(r\"^\\s*(?:#|$)\", \"# a comment\"))"
   ]
  },
  {
   "cell_type": "markdown",
   "metadata": {},
   "source": [
    "### Arrays and Matrices "
   ]
  },
  {
   "cell_type": "markdown",
   "metadata": {},
   "source": [
    "An array is an ordered collection of objects in an n-dimensional grid. Similar to FORTRAN, array index starts at 1 in Julia"
   ]
  },
  {
   "cell_type": "code",
   "execution_count": 53,
   "metadata": {},
   "outputs": [
    {
     "data": {
      "text/plain": [
       "4-element Array{Int64,1}:\n",
       " 1\n",
       " 2\n",
       " 3\n",
       " 4"
      ]
     },
     "execution_count": 53,
     "metadata": {},
     "output_type": "execute_result"
    }
   ],
   "source": [
    "a1 = [1,2,3,4] # This is a column vector"
   ]
  },
  {
   "cell_type": "code",
   "execution_count": 54,
   "metadata": {},
   "outputs": [
    {
     "name": "stdout",
     "output_type": "stream",
     "text": [
      "[1, 2, 3, 4]\n"
     ]
    }
   ],
   "source": [
    "println(a1)"
   ]
  },
  {
   "cell_type": "markdown",
   "metadata": {},
   "source": [
    "Vector aritmetics is possible with dot (`.<operation>`) operations"
   ]
  },
  {
   "cell_type": "code",
   "execution_count": 55,
   "metadata": {},
   "outputs": [
    {
     "data": {
      "text/plain": [
       "4-element Array{Int64,1}:\n",
       "  1\n",
       "  8\n",
       " 27\n",
       " 64"
      ]
     },
     "execution_count": 55,
     "metadata": {},
     "output_type": "execute_result"
    }
   ],
   "source": [
    "a1 = a1 .^ 3"
   ]
  },
  {
   "cell_type": "code",
   "execution_count": 56,
   "metadata": {},
   "outputs": [
    {
     "data": {
      "text/plain": [
       "1×4 Array{Int64,2}:\n",
       " 1  2  3  4"
      ]
     },
     "execution_count": 56,
     "metadata": {},
     "output_type": "execute_result"
    }
   ],
   "source": [
    "a2 = [1 2 3 4] # A row vector"
   ]
  },
  {
   "cell_type": "code",
   "execution_count": 57,
   "metadata": {},
   "outputs": [
    {
     "data": {
      "text/plain": [
       "((4,), (1, 4), 1, 2)"
      ]
     },
     "execution_count": 57,
     "metadata": {},
     "output_type": "execute_result"
    }
   ],
   "source": [
    "size(a1), size(a2), ndims(a1),ndims(a2)"
   ]
  },
  {
   "cell_type": "code",
   "execution_count": 58,
   "metadata": {},
   "outputs": [
    {
     "data": {
      "text/plain": [
       "2×2×3 Array{Float64,3}:\n",
       "[:, :, 1] =\n",
       " 6.94512e-310  6.94512e-310\n",
       " 6.94512e-310  6.94512e-310\n",
       "\n",
       "[:, :, 2] =\n",
       " 6.94512e-310  6.94512e-310\n",
       " 6.94512e-310  6.94512e-310\n",
       "\n",
       "[:, :, 3] =\n",
       " 6.94512e-310  6.94512e-310\n",
       " 6.94512e-310  6.94512e-310"
      ]
     },
     "execution_count": 58,
     "metadata": {},
     "output_type": "execute_result"
    }
   ],
   "source": [
    "a3 = Array{Float64}(2,2,3)"
   ]
  },
  {
   "cell_type": "code",
   "execution_count": 59,
   "metadata": {},
   "outputs": [
    {
     "data": {
      "text/plain": [
       "3"
      ]
     },
     "execution_count": 59,
     "metadata": {},
     "output_type": "execute_result"
    }
   ],
   "source": [
    "size(a3, 3) \n",
    "# We can find out the number of elements in each dimension with `size(<arrayname>,<dimension>)`"
   ]
  },
  {
   "cell_type": "code",
   "execution_count": 60,
   "metadata": {
    "scrolled": true
   },
   "outputs": [
    {
     "data": {
      "text/plain": [
       "3×3 Array{Int64,2}:\n",
       " 1  4  7\n",
       " 2  5  8\n",
       " 3  6  9"
      ]
     },
     "execution_count": 60,
     "metadata": {},
     "output_type": "execute_result"
    }
   ],
   "source": [
    "a3 = [[1,2,3] [4,5,6] [7,8,9]]"
   ]
  },
  {
   "cell_type": "markdown",
   "metadata": {},
   "source": [
    "How do we use indices to get to element 8 in this array? Note that Julia arrays are read columnwise"
   ]
  },
  {
   "cell_type": "code",
   "execution_count": 61,
   "metadata": {},
   "outputs": [
    {
     "data": {
      "text/plain": [
       "(8, 8)"
      ]
     },
     "execution_count": 61,
     "metadata": {},
     "output_type": "execute_result"
    }
   ],
   "source": [
    "a3[8], a3[2,3]"
   ]
  },
  {
   "cell_type": "markdown",
   "metadata": {},
   "source": [
    "We can create arrays of mixed type objects"
   ]
  },
  {
   "cell_type": "code",
   "execution_count": 62,
   "metadata": {},
   "outputs": [
    {
     "data": {
      "text/plain": [
       "8-element Array{Any,1}:\n",
       "     cos          \n",
       "    2.23          \n",
       " 2.2+5.0im        \n",
       "   2//3           \n",
       "     \"Hello Word!\"\n",
       " true             \n",
       "    0             \n",
       "     [9, 8, 3]    "
      ]
     },
     "execution_count": 62,
     "metadata": {},
     "output_type": "execute_result"
    }
   ],
   "source": [
    "a4=[cos,2.23,2.2+5im,2//3,\"Hello Word!\",true, 0, [9,8,3]]"
   ]
  },
  {
   "cell_type": "markdown",
   "metadata": {},
   "source": [
    "We can query if an element exists or not in an array"
   ]
  },
  {
   "cell_type": "code",
   "execution_count": 63,
   "metadata": {},
   "outputs": [
    {
     "data": {
      "text/plain": [
       "(false, true)"
      ]
     },
     "execution_count": 63,
     "metadata": {},
     "output_type": "execute_result"
    }
   ],
   "source": [
    "3 in a4, 3 in a4[8]"
   ]
  },
  {
   "cell_type": "code",
   "execution_count": 64,
   "metadata": {},
   "outputs": [
    {
     "data": {
      "text/plain": [
       "true"
      ]
     },
     "execution_count": 64,
     "metadata": {},
     "output_type": "execute_result"
    }
   ],
   "source": [
    "false in a4"
   ]
  },
  {
   "cell_type": "code",
   "execution_count": 65,
   "metadata": {},
   "outputs": [
    {
     "data": {
      "text/plain": [
       "8"
      ]
     },
     "execution_count": 65,
     "metadata": {},
     "output_type": "execute_result"
    }
   ],
   "source": [
    "a4[8,1][2]"
   ]
  },
  {
   "cell_type": "markdown",
   "metadata": {},
   "source": [
    "`collect()` function can be used to create sequential arrays"
   ]
  },
  {
   "cell_type": "code",
   "execution_count": 66,
   "metadata": {},
   "outputs": [
    {
     "data": {
      "text/plain": [
       "23-element Array{Float64,1}:\n",
       "  1.3\n",
       "  3.5\n",
       "  5.7\n",
       "  7.9\n",
       " 10.1\n",
       " 12.3\n",
       " 14.5\n",
       " 16.7\n",
       " 18.9\n",
       " 21.1\n",
       " 23.3\n",
       " 25.5\n",
       " 27.7\n",
       " 29.9\n",
       " 32.1\n",
       " 34.3\n",
       " 36.5\n",
       " 38.7\n",
       " 40.9\n",
       " 43.1\n",
       " 45.3\n",
       " 47.5\n",
       " 49.7"
      ]
     },
     "execution_count": 66,
     "metadata": {},
     "output_type": "execute_result"
    }
   ],
   "source": [
    "collect(1.3:2.2:50)"
   ]
  },
  {
   "cell_type": "markdown",
   "metadata": {},
   "source": [
    "Ellipsis operator `...` can be used to create sequential arrays without `collect()`"
   ]
  },
  {
   "cell_type": "code",
   "execution_count": 67,
   "metadata": {},
   "outputs": [
    {
     "data": {
      "text/plain": [
       "23-element Array{Float64,1}:\n",
       "  1.3\n",
       "  3.5\n",
       "  5.7\n",
       "  7.9\n",
       " 10.1\n",
       " 12.3\n",
       " 14.5\n",
       " 16.7\n",
       " 18.9\n",
       " 21.1\n",
       " 23.3\n",
       " 25.5\n",
       " 27.7\n",
       " 29.9\n",
       " 32.1\n",
       " 34.3\n",
       " 36.5\n",
       " 38.7\n",
       " 40.9\n",
       " 43.1\n",
       " 45.3\n",
       " 47.5\n",
       " 49.7"
      ]
     },
     "execution_count": 67,
     "metadata": {},
     "output_type": "execute_result"
    }
   ],
   "source": [
    "[1.3:2.2:50...]"
   ]
  },
  {
   "cell_type": "markdown",
   "metadata": {},
   "source": [
    "Arrays can be quickly filled with zeros, ones, trues, falses or random numbers"
   ]
  },
  {
   "cell_type": "code",
   "execution_count": 68,
   "metadata": {},
   "outputs": [
    {
     "data": {
      "text/plain": [
       "3×4 Array{Float64,2}:\n",
       " 1.0  1.0  1.0  1.0\n",
       " 1.0  1.0  1.0  1.0\n",
       " 1.0  1.0  1.0  1.0"
      ]
     },
     "execution_count": 68,
     "metadata": {},
     "output_type": "execute_result"
    }
   ],
   "source": [
    "a5 = ones(3,4)"
   ]
  },
  {
   "cell_type": "code",
   "execution_count": 69,
   "metadata": {},
   "outputs": [
    {
     "data": {
      "text/plain": [
       "3×4 Array{Float64,2}:\n",
       " 0.863063  0.775912  0.244288   0.277824\n",
       " 0.671469  0.725459  0.0871313  0.456672\n",
       " 0.64212   0.470601  0.73579    0.868426"
      ]
     },
     "execution_count": 69,
     "metadata": {},
     "output_type": "execute_result"
    }
   ],
   "source": [
    "a6 = rand(3,4)"
   ]
  },
  {
   "cell_type": "markdown",
   "metadata": {},
   "source": [
    "Arrays can be reshaped with `reshape()` command"
   ]
  },
  {
   "cell_type": "code",
   "execution_count": 70,
   "metadata": {},
   "outputs": [
    {
     "data": {
      "text/plain": [
       "4×3 Array{Float64,2}:\n",
       " 0.863063  0.725459   0.73579 \n",
       " 0.671469  0.470601   0.277824\n",
       " 0.64212   0.244288   0.456672\n",
       " 0.775912  0.0871313  0.868426"
      ]
     },
     "execution_count": 70,
     "metadata": {},
     "output_type": "execute_result"
    }
   ],
   "source": [
    "a8 = reshape(a6,(4,3))"
   ]
  },
  {
   "cell_type": "code",
   "execution_count": 71,
   "metadata": {},
   "outputs": [
    {
     "data": {
      "text/plain": [
       "3×3 Array{Float64,2}:\n",
       " 0.224481  1.33025  8.94222\n",
       " 6.78924   5.42995  6.67412\n",
       " 5.26258   4.07146  7.60313"
      ]
     },
     "execution_count": 71,
     "metadata": {},
     "output_type": "execute_result"
    }
   ],
   "source": [
    "a9 = rand(3,3)*10"
   ]
  },
  {
   "cell_type": "markdown",
   "metadata": {},
   "source": [
    "There are many built-in linear algebra operations such as determinant, trace, diagonalization, eigenvals, transpose, inversion, dot product, cross product etc."
   ]
  },
  {
   "cell_type": "code",
   "execution_count": 72,
   "metadata": {},
   "outputs": [
    {
     "data": {
      "text/plain": [
       "(-27.123124795659923, 13.257557950399883, [0.224481, 5.42995, 7.60313])"
      ]
     },
     "execution_count": 72,
     "metadata": {},
     "output_type": "execute_result"
    }
   ],
   "source": [
    "det(a9), trace(a9), diag(a9)"
   ]
  },
  {
   "cell_type": "code",
   "execution_count": 73,
   "metadata": {},
   "outputs": [
    {
     "data": {
      "text/plain": [
       "3-element Array{Float64,1}:\n",
       " 15.6432  \n",
       " -2.96956 \n",
       "  0.583876"
      ]
     },
     "execution_count": 73,
     "metadata": {},
     "output_type": "execute_result"
    }
   ],
   "source": [
    "eigvals(a9)"
   ]
  },
  {
   "cell_type": "code",
   "execution_count": 74,
   "metadata": {},
   "outputs": [
    {
     "data": {
      "text/plain": [
       "3×3 Array{Float64,2}:\n",
       " 0.224481  6.78924  5.26258\n",
       " 1.33025   5.42995  4.07146\n",
       " 8.94222   6.67412  7.60313"
      ]
     },
     "execution_count": 74,
     "metadata": {},
     "output_type": "execute_result"
    }
   ],
   "source": [
    "a9' #Transpose"
   ]
  },
  {
   "cell_type": "code",
   "execution_count": 75,
   "metadata": {},
   "outputs": [
    {
     "data": {
      "text/plain": [
       "3×3 Array{Float64,2}:\n",
       "  1.0          4.44089e-16  -4.44089e-16\n",
       " -7.77156e-16  1.0           6.66134e-16\n",
       "  5.55112e-17  1.55431e-15   1.0        "
      ]
     },
     "execution_count": 75,
     "metadata": {},
     "output_type": "execute_result"
    }
   ],
   "source": [
    "a9*inv(a9)"
   ]
  },
  {
   "cell_type": "code",
   "execution_count": 76,
   "metadata": {},
   "outputs": [
    {
     "data": {
      "text/plain": [
       "3×3 Array{Float64,2}:\n",
       "  0.0503915   9.03139  47.0591\n",
       "  9.03139    29.4843   27.1734\n",
       " 47.0591     27.1734   57.8076"
      ]
     },
     "execution_count": 76,
     "metadata": {},
     "output_type": "execute_result"
    }
   ],
   "source": [
    "a9.*a9' #Elementwise multiplication"
   ]
  },
  {
   "cell_type": "code",
   "execution_count": 77,
   "metadata": {},
   "outputs": [
    {
     "name": "stdout",
     "output_type": "stream",
     "text": [
      "[0.841471, 0.909297, 0.14112]\n"
     ]
    }
   ],
   "source": [
    "a7 = [1.0, 2.0, 3.0]\n",
    "println( sin.(a7) )"
   ]
  },
  {
   "cell_type": "code",
   "execution_count": 78,
   "metadata": {},
   "outputs": [
    {
     "data": {
      "text/plain": [
       "253.87018218665065"
      ]
     },
     "execution_count": 78,
     "metadata": {},
     "output_type": "execute_result"
    }
   ],
   "source": [
    "vecdot(a9,a9') #Dot product "
   ]
  },
  {
   "cell_type": "markdown",
   "metadata": {},
   "source": [
    "### Tuples"
   ]
  },
  {
   "cell_type": "markdown",
   "metadata": {},
   "source": [
    "A tuple is similar to an array. However they are immutable (can't be changed) just as in Python. A tuple is represented by parentheses and commas."
   ]
  },
  {
   "cell_type": "code",
   "execution_count": 79,
   "metadata": {},
   "outputs": [
    {
     "data": {
      "text/plain": [
       "((8, 9), (2, 5))"
      ]
     },
     "execution_count": 79,
     "metadata": {},
     "output_type": "execute_result"
    }
   ],
   "source": [
    "t = ((8, 9), (2, 5))"
   ]
  },
  {
   "cell_type": "code",
   "execution_count": 80,
   "metadata": {},
   "outputs": [
    {
     "data": {
      "text/plain": [
       "Tuple{Tuple{Int64,Int64},Tuple{Int64,Int64}}"
      ]
     },
     "execution_count": 80,
     "metadata": {},
     "output_type": "execute_result"
    }
   ],
   "source": [
    "typeof(t)"
   ]
  },
  {
   "cell_type": "code",
   "execution_count": 81,
   "metadata": {},
   "outputs": [
    {
     "data": {
      "text/plain": [
       "9"
      ]
     },
     "execution_count": 81,
     "metadata": {},
     "output_type": "execute_result"
    }
   ],
   "source": [
    "t[1][2]"
   ]
  },
  {
   "cell_type": "code",
   "execution_count": 82,
   "metadata": {},
   "outputs": [
    {
     "ename": "LoadError",
     "evalue": "\u001b[91mMethodError: no method matching setindex!(::Tuple{Int64,Int64}, ::Int64, ::Int64)\u001b[39m",
     "output_type": "error",
     "traceback": [
      "\u001b[91mMethodError: no method matching setindex!(::Tuple{Int64,Int64}, ::Int64, ::Int64)\u001b[39m",
      ""
     ]
    }
   ],
   "source": [
    "t[1][2]=10"
   ]
  },
  {
   "cell_type": "markdown",
   "metadata": {},
   "source": [
    "### Dictionaries"
   ]
  },
  {
   "cell_type": "markdown",
   "metadata": {},
   "source": [
    "Another of collection type is dictionary. This type includes a key-value pair. Apart from syntax differences, the uses of dictionaries are similar to Python. "
   ]
  },
  {
   "cell_type": "code",
   "execution_count": 83,
   "metadata": {},
   "outputs": [
    {
     "data": {
      "text/plain": [
       "Dict{Any,Any} with 3 entries:\n",
       "  \"tall\" => \"giraffe\"\n",
       "  2      => \"two\"\n",
       "  \"blue\" => 1"
      ]
     },
     "execution_count": 83,
     "metadata": {},
     "output_type": "execute_result"
    }
   ],
   "source": [
    "dict = Dict(\"blue\"=>1, \"tall\"=>\"giraffe\", 2=>\"two\")"
   ]
  },
  {
   "cell_type": "markdown",
   "metadata": {},
   "source": [
    "Use key to look up the value"
   ]
  },
  {
   "cell_type": "code",
   "execution_count": 84,
   "metadata": {},
   "outputs": [
    {
     "data": {
      "text/plain": [
       "(\"giraffe\", \"two\")"
      ]
     },
     "execution_count": 84,
     "metadata": {},
     "output_type": "execute_result"
    }
   ],
   "source": [
    "dict[\"tall\"], dict[2]"
   ]
  },
  {
   "cell_type": "code",
   "execution_count": 85,
   "metadata": {},
   "outputs": [
    {
     "data": {
      "text/plain": [
       "Base.KeyIterator for a Dict{Any,Any} with 3 entries. Keys:\n",
       "  \"tall\"\n",
       "  2\n",
       "  \"blue\""
      ]
     },
     "execution_count": 85,
     "metadata": {},
     "output_type": "execute_result"
    }
   ],
   "source": [
    "keys(dict)"
   ]
  },
  {
   "cell_type": "code",
   "execution_count": 86,
   "metadata": {},
   "outputs": [
    {
     "data": {
      "text/plain": [
       "Base.ValueIterator for a Dict{Any,Any} with 3 entries. Values:\n",
       "  \"giraffe\"\n",
       "  \"two\"\n",
       "  1"
      ]
     },
     "execution_count": 86,
     "metadata": {},
     "output_type": "execute_result"
    }
   ],
   "source": [
    "values(dict)"
   ]
  },
  {
   "cell_type": "markdown",
   "metadata": {},
   "source": [
    "For a large dictionary, using haskey is useful when searching for a key"
   ]
  },
  {
   "cell_type": "code",
   "execution_count": 87,
   "metadata": {},
   "outputs": [
    {
     "data": {
      "text/plain": [
       "(false, true)"
      ]
     },
     "execution_count": 87,
     "metadata": {},
     "output_type": "execute_result"
    }
   ],
   "source": [
    "haskey(dict,\"short\"), haskey(dict,\"tall\")"
   ]
  },
  {
   "cell_type": "markdown",
   "metadata": {},
   "source": [
    "Addition and deletion of keys are allowed"
   ]
  },
  {
   "cell_type": "code",
   "execution_count": 88,
   "metadata": {},
   "outputs": [
    {
     "data": {
      "text/plain": [
       "3-element Array{Int64,1}:\n",
       " 1\n",
       " 2\n",
       " 3"
      ]
     },
     "execution_count": 88,
     "metadata": {},
     "output_type": "execute_result"
    }
   ],
   "source": [
    "dict[\"myarray\"]=[1,2,3]"
   ]
  },
  {
   "cell_type": "code",
   "execution_count": 89,
   "metadata": {},
   "outputs": [
    {
     "data": {
      "text/plain": [
       "Dict{Any,Any} with 4 entries:\n",
       "  \"tall\"    => \"giraffe\"\n",
       "  \"myarray\" => [1, 2, 3]\n",
       "  2         => \"two\"\n",
       "  \"blue\"    => 1"
      ]
     },
     "execution_count": 89,
     "metadata": {},
     "output_type": "execute_result"
    }
   ],
   "source": [
    "dict"
   ]
  },
  {
   "cell_type": "code",
   "execution_count": 90,
   "metadata": {},
   "outputs": [
    {
     "data": {
      "text/plain": [
       "Dict{Any,Any} with 3 entries:\n",
       "  \"tall\"    => \"giraffe\"\n",
       "  \"myarray\" => [1, 2, 3]\n",
       "  2         => \"two\""
      ]
     },
     "execution_count": 90,
     "metadata": {},
     "output_type": "execute_result"
    }
   ],
   "source": [
    "delete!(dict,\"blue\")\n",
    "dict"
   ]
  },
  {
   "cell_type": "markdown",
   "metadata": {},
   "source": [
    "## 2. Control Flow and Functions"
   ]
  },
  {
   "cell_type": "markdown",
   "metadata": {
    "collapsed": true
   },
   "source": [
    "### Compound Expressions"
   ]
  },
  {
   "cell_type": "markdown",
   "metadata": {},
   "source": [
    "A single expression which evaluates several subexpressions in order, returning the value of the last subexpression as its value. Grouing of some expressions to limit scope of variables and by doing so increase performance"
   ]
  },
  {
   "cell_type": "code",
   "execution_count": 91,
   "metadata": {},
   "outputs": [
    {
     "data": {
      "text/plain": [
       "3"
      ]
     },
     "execution_count": 91,
     "metadata": {},
     "output_type": "execute_result"
    }
   ],
   "source": [
    "# chains with `;`\n",
    "z = (x = 1; y = 2; x + y)"
   ]
  },
  {
   "cell_type": "code",
   "execution_count": 92,
   "metadata": {},
   "outputs": [
    {
     "data": {
      "text/plain": [
       "15"
      ]
     },
     "execution_count": 92,
     "metadata": {},
     "output_type": "execute_result"
    }
   ],
   "source": [
    "# Blocks with `begin` and `end`\n",
    "z = begin\n",
    "        x = 8\n",
    "        y = 7\n",
    "        x + y\n",
    "    end"
   ]
  },
  {
   "cell_type": "markdown",
   "metadata": {},
   "source": [
    "### Functions"
   ]
  },
  {
   "cell_type": "markdown",
   "metadata": {},
   "source": [
    "A function is a code block grouped together to perform a specific task when called by the master program. In Julia functions can be assigned to variables, used as arguments, and returned as values."
   ]
  },
  {
   "cell_type": "code",
   "execution_count": 93,
   "metadata": {},
   "outputs": [
    {
     "name": "stdout",
     "output_type": "stream",
     "text": [
      "7\n",
      "11\n"
     ]
    }
   ],
   "source": [
    "# A simple example of function\n",
    "function myfun(x,y)\n",
    "   x + y\n",
    "end\n",
    "println(myfun(3,4))\n",
    "println(myfun(2,9))"
   ]
  },
  {
   "cell_type": "code",
   "execution_count": 94,
   "metadata": {},
   "outputs": [
    {
     "name": "stdout",
     "output_type": "stream",
     "text": [
      "We have: facebook, google and amazon!\n",
      "We have: Bitcoin, Ethereum, Litecoin and Dogecoin!\n"
     ]
    }
   ],
   "source": [
    "# Functions on array\n",
    "function print_word_list(words_array)\n",
    "    words_str = join(words_array, \", \", \" and \")\n",
    "    println(\"We have: $words_str\\!\")\n",
    "end\n",
    "print_word_list([\"facebook\", \"google\", \"amazon\"])\n",
    "print_word_list([\"Bitcoin\", \"Ethereum\", \"Litecoin\", \"Dogecoin\"])"
   ]
  },
  {
   "cell_type": "code",
   "execution_count": 95,
   "metadata": {},
   "outputs": [
    {
     "name": "stdout",
     "output_type": "stream",
     "text": [
      "-1.5\n"
     ]
    }
   ],
   "source": [
    "# Simple way to define numerical functions\n",
    "func(x,y) = (x^2 - 2y) / (y^2 - 3x)\n",
    "println(func(0.5,2))"
   ]
  },
  {
   "cell_type": "code",
   "execution_count": 96,
   "metadata": {},
   "outputs": [
    {
     "name": "stdout",
     "output_type": "stream",
     "text": [
      "12\n",
      "12\n"
     ]
    }
   ],
   "source": [
    "# Operators Are Functions\n",
    "println( 3 + 4 + 5 )\n",
    "println( +(3,4,5) )\n"
   ]
  },
  {
   "cell_type": "code",
   "execution_count": 97,
   "metadata": {},
   "outputs": [
    {
     "name": "stdout",
     "output_type": "stream",
     "text": [
      "5.0\n",
      "6.4031242374328485\n"
     ]
    }
   ],
   "source": [
    "# Optional arguments\n",
    "function calc_distance(x, y, z = 0) # A default value is set for z in case z is not defined\n",
    "    return( sqrt(x^2+y^2+z^2) )\n",
    "end\n",
    "\n",
    "println( calc_distance(3,4))\n",
    "println( calc_distance(3,4,4))"
   ]
  },
  {
   "cell_type": "markdown",
   "metadata": {},
   "source": [
    "### Anonymous Functions\n",
    "\n",
    "A function created without being given a name. Remember lambda function in Python."
   ]
  },
  {
   "cell_type": "code",
   "execution_count": 98,
   "metadata": {},
   "outputs": [
    {
     "name": "stdout",
     "output_type": "stream",
     "text": [
      "[1.0, 4.0, 2.0]\n"
     ]
    }
   ],
   "source": [
    "# Functions as arguments\n",
    "println( map(round, [1.2,3.5,1.7]) )"
   ]
  },
  {
   "cell_type": "code",
   "execution_count": 99,
   "metadata": {},
   "outputs": [
    {
     "name": "stdout",
     "output_type": "stream",
     "text": [
      "[2, 14, -2]\n"
     ]
    }
   ],
   "source": [
    "# Define \n",
    "println( map(x -> x^2 + 2x - 1, [1,3,-1]) )"
   ]
  },
  {
   "cell_type": "markdown",
   "metadata": {},
   "source": [
    "### Conditional Evaluation"
   ]
  },
  {
   "cell_type": "code",
   "execution_count": 100,
   "metadata": {},
   "outputs": [
    {
     "name": "stdout",
     "output_type": "stream",
     "text": [
      "x is greater than y\n"
     ]
    }
   ],
   "source": [
    "# if-else-end\n",
    "x = 10\n",
    "y = 5\n",
    "if x < y\n",
    "    println(\"x is less than y\")\n",
    "elseif x > y\n",
    "    println(\"x is greater than y\")\n",
    "else\n",
    "    println(\"x is equal to y\")\n",
    "end"
   ]
  },
  {
   "cell_type": "code",
   "execution_count": 101,
   "metadata": {},
   "outputs": [
    {
     "name": "stdout",
     "output_type": "stream",
     "text": [
      "a, b, c are: 47.0, 60.0, 88.0\n",
      "a is the smallest number\n"
     ]
    }
   ],
   "source": [
    "# compound logic expressions\n",
    "a = round(rand()*100)\n",
    "b = round(rand()*100)\n",
    "c = round(rand()*100)\n",
    "println(\"a, b, c are: $a, $b, $c\")\n",
    "\n",
    "if a < b && a < c\n",
    "    println(\"a is the smallest number\")\n",
    "else\n",
    "    println(\"a is not the smallest number\")\n",
    "end"
   ]
  },
  {
   "cell_type": "code",
   "execution_count": 102,
   "metadata": {},
   "outputs": [
    {
     "name": "stdout",
     "output_type": "stream",
     "text": [
      "b is the smallest number\n"
     ]
    }
   ],
   "source": [
    "if b >= a && b >= c\n",
    "    println(\"b is not the smallest number\")\n",
    "else\n",
    "    println(\"b is the smallest number\")\n",
    "end"
   ]
  },
  {
   "cell_type": "markdown",
   "metadata": {},
   "source": [
    "### Loops"
   ]
  },
  {
   "cell_type": "code",
   "execution_count": 103,
   "metadata": {},
   "outputs": [
    {
     "name": "stdout",
     "output_type": "stream",
     "text": [
      "1, 2, 3, 4, 5, \n"
     ]
    }
   ],
   "source": [
    "# While loops\n",
    "i = 1;\n",
    "while i <= 5\n",
    "    print(i, \", \")\n",
    "    i += 1\n",
    "end\n",
    "println()"
   ]
  },
  {
   "cell_type": "code",
   "execution_count": 104,
   "metadata": {},
   "outputs": [
    {
     "name": "stdout",
     "output_type": "stream",
     "text": [
      "a, b, c, d, e, f, \n"
     ]
    }
   ],
   "source": [
    "# For loops\n",
    "for i = 'a':'f'\n",
    "    print(i, \", \")\n",
    "end\n",
    "println()"
   ]
  },
  {
   "cell_type": "code",
   "execution_count": 105,
   "metadata": {},
   "outputs": [
    {
     "name": "stdout",
     "output_type": "stream",
     "text": [
      "1, 2, 3, 4, \n"
     ]
    }
   ],
   "source": [
    "# Loop over arrays\n",
    "a1 = [1,2,3,4]\n",
    "for i in a1\n",
    "    print(i, \", \")\n",
    "end\n",
    "println()"
   ]
  },
  {
   "cell_type": "code",
   "execution_count": 106,
   "metadata": {},
   "outputs": [
    {
     "name": "stdout",
     "output_type": "stream",
     "text": [
      "4, 3, 2, 1, \n"
     ]
    }
   ],
   "source": [
    "# if the array is being manipulated during evaluation a while loop shoud be used\n",
    "# pop removes the last element from an array\n",
    "while !isempty(a1)\n",
    "    print(pop!(a1), \", \")\n",
    "end\n",
    "println() #> 4, 3, 2, 1,"
   ]
  },
  {
   "cell_type": "code",
   "execution_count": 107,
   "metadata": {},
   "outputs": [
    {
     "name": "stdout",
     "output_type": "stream",
     "text": [
      "2, 4, 6, 8, \n"
     ]
    }
   ],
   "source": [
    "# continue and break work in the same way as python\n",
    "a2 = collect(1:20)\n",
    "for i in a2\n",
    "    if i % 2 != 0\n",
    "        continue\n",
    "    end\n",
    "    print(i, \", \")\n",
    "    if i >= 8\n",
    "        break\n",
    "    end\n",
    "end\n",
    "println() #> 2, 4, 6, 8,"
   ]
  },
  {
   "cell_type": "markdown",
   "metadata": {},
   "source": [
    "### Exception Handling"
   ]
  },
  {
   "cell_type": "code",
   "execution_count": 108,
   "metadata": {},
   "outputs": [
    {
     "name": "stdout",
     "output_type": "stream",
     "text": [
      "1.0\n"
     ]
    },
    {
     "ename": "LoadError",
     "evalue": "DomainError:",
     "output_type": "error",
     "traceback": [
      "DomainError:",
      "",
      "Stacktrace:",
      " [1] \u001b[1mf1\u001b[22m\u001b[22m\u001b[1m(\u001b[22m\u001b[22m::Int64\u001b[1m)\u001b[22m\u001b[22m at \u001b[1m./In[108]:1\u001b[22m\u001b[22m"
     ]
    }
   ],
   "source": [
    "f1(x) = sqrt(x)\n",
    "\n",
    "println(f1(1))\n",
    "println(f1(-1))"
   ]
  },
  {
   "cell_type": "code",
   "execution_count": 109,
   "metadata": {},
   "outputs": [
    {
     "name": "stdout",
     "output_type": "stream",
     "text": [
      "1.0\n",
      "0.0 + 1.0im\n"
     ]
    }
   ],
   "source": [
    "f2(x) = try\n",
    "            sqrt(x)\n",
    "        catch\n",
    "            sqrt(complex(x, 0))\n",
    "        end\n",
    "\n",
    "println(f2(1))\n",
    "println(f2(-1))"
   ]
  },
  {
   "cell_type": "markdown",
   "metadata": {},
   "source": [
    "## 3. IO: Read and Write Text Files"
   ]
  },
  {
   "cell_type": "code",
   "execution_count": 110,
   "metadata": {},
   "outputs": [],
   "source": [
    "# Write files\n",
    "f = open(\"test-write.txt\", \"w\") # Must use string instead of character!\n",
    "println(f, \"This is Line 1\")\n",
    "println(f, \"This is Line 2\")\n",
    "println(f, \"This is Line 3, and the end\")\n",
    "close(f)"
   ]
  },
  {
   "cell_type": "code",
   "execution_count": 111,
   "metadata": {},
   "outputs": [
    {
     "name": "stdout",
     "output_type": "stream",
     "text": [
      "intro_to_julia.ipynb\n",
      "Julia-cheatsheet.pdf\n",
      "Julia_introduction_slides.pdf\n",
      "Julia_introduction_slides.pptx\n",
      "julia.parexamples\n",
      "julia_plotting.ipynb\n",
      "README.md\n",
      "test-write.txt\n",
      "Type-hierarchy-for-julia-numbers.png\n"
     ]
    }
   ],
   "source": [
    ";ls"
   ]
  },
  {
   "cell_type": "code",
   "execution_count": 112,
   "metadata": {},
   "outputs": [
    {
     "name": "stdout",
     "output_type": "stream",
     "text": [
      "This is Line 1\n",
      "This is Line 2\n",
      "This is Line 3, and the end\n",
      "\n"
     ]
    }
   ],
   "source": [
    "# Read file line by line\n",
    "open(\"test-write.txt\",\"r\") do f\n",
    "    s = readstring(f)\n",
    "    println(s)\n",
    "end"
   ]
  },
  {
   "cell_type": "code",
   "execution_count": 113,
   "metadata": {},
   "outputs": [
    {
     "name": "stdout",
     "output_type": "stream",
     "text": [
      "#1: This is Line 1\n",
      "#2: This is Line 2\n",
      "#3: This is Line 3, and the end\n"
     ]
    }
   ],
   "source": [
    "# Read file line by line\n",
    "open(\"test-write.txt\",\"r\") do f\n",
    "    count = 0\n",
    "    for line in eachline(f)\n",
    "        count+=1\n",
    "        println(\"#$count: \"*line)\n",
    "    end\n",
    "end"
   ]
  },
  {
   "cell_type": "markdown",
   "metadata": {},
   "source": [
    "`writedlm()` and `readdlm()` can be used to write and read arrays. The default delimiter is white space. There are also `writecsv()` and `readcsv()` commands for csv files."
   ]
  },
  {
   "cell_type": "code",
   "execution_count": 114,
   "metadata": {},
   "outputs": [],
   "source": [
    "# Read, write arrays\n",
    "\n",
    "numbers = rand(5,5)\n",
    "writedlm(\"./test-arrays.txt\", numbers) #writedlm(\"./test-arrays.txt\", numbers, \",\") -comma is used as delimiter"
   ]
  },
  {
   "cell_type": "code",
   "execution_count": 115,
   "metadata": {},
   "outputs": [
    {
     "name": "stdout",
     "output_type": "stream",
     "text": [
      "#1: 0.8071373772858854\t0.1010538300572752\t0.3668425739267458\t0.6118131850977551\t0.48868524461359963\n",
      "#2: 0.7228452640942433\t0.8578767820265909\t0.5169448069116744\t0.5990395014628929\t0.3466439176607272\n",
      "#3: 0.964390181909581\t0.12713678498994385\t0.7672119824328953\t0.6733173365271143\t0.8173334379122525\n",
      "#4: 0.14288283417139036\t0.6789133607402986\t0.4708037863031109\t0.6523837870326332\t0.23410042582132218\n",
      "#5: 0.6125641916534927\t0.9603305683416088\t0.7171584010554382\t0.7971481808321195\t0.29772793890817706\n"
     ]
    }
   ],
   "source": [
    "open(\"test-arrays.txt\",\"r\") do f\n",
    "    count = 0\n",
    "    for line in eachline(f)\n",
    "        count+=1\n",
    "        println(\"#$count: \"*line)\n",
    "    end\n",
    "end"
   ]
  },
  {
   "cell_type": "code",
   "execution_count": 116,
   "metadata": {},
   "outputs": [
    {
     "data": {
      "text/plain": [
       "5×5 Array{Float64,2}:\n",
       " 0.807137  0.101054  0.366843  0.611813  0.488685\n",
       " 0.722845  0.857877  0.516945  0.59904   0.346644\n",
       " 0.96439   0.127137  0.767212  0.673317  0.817333\n",
       " 0.142883  0.678913  0.470804  0.652384  0.2341  \n",
       " 0.612564  0.960331  0.717158  0.797148  0.297728"
      ]
     },
     "execution_count": 116,
     "metadata": {},
     "output_type": "execute_result"
    }
   ],
   "source": [
    "my_numbers = readdlm(\"./test-arrays.txt\") #readdlm(\"./test-arrays.txt\", \",\",Float64)\n",
    "\n",
    "# println(typeof(my_numbers))\n",
    "my_numbers"
   ]
  },
  {
   "cell_type": "markdown",
   "metadata": {},
   "source": [
    "### Working with file system: files, directories"
   ]
  },
  {
   "cell_type": "markdown",
   "metadata": {},
   "source": [
    "Julia comes with a standard library to manipulate filesystem."
   ]
  },
  {
   "cell_type": "code",
   "execution_count": 117,
   "metadata": {},
   "outputs": [
    {
     "name": "stdout",
     "output_type": "stream",
     "text": [
      "String[\".git\", \"intro_to_julia.ipynb\", \".ipynb_checkpoints\", \"Julia-cheatsheet.pdf\", \"Julia_introduction_slides.pdf\", \"Julia_introduction_slides.pptx\", \"julia.parexamples\", \"julia_plotting.ipynb\", \"README.md\", \"test-arrays.txt\", \"test-write.txt\", \"Type-hierarchy-for-julia-numbers.png\"]\n"
     ]
    }
   ],
   "source": [
    "println(readdir(\".\") )"
   ]
  },
  {
   "cell_type": "code",
   "execution_count": 118,
   "metadata": {},
   "outputs": [
    {
     "name": "stdout",
     "output_type": "stream",
     "text": [
      "String[\".git\", \"intro_to_julia.ipynb\", \".ipynb_checkpoints\", \"Julia-cheatsheet.pdf\", \"Julia_introduction_slides.pdf\", \"Julia_introduction_slides.pptx\", \"julia.parexamples\", \"julia_plotting.ipynb\", \"README.md\", \"test-arrays.txt\", \"test-write-bk.txt\", \"test-write.txt\", \"Type-hierarchy-for-julia-numbers.png\"]\n"
     ]
    }
   ],
   "source": [
    "cp(\"./test-write.txt\",\"./test-write-bk.txt\",remove_destination=true)\n",
    "println(readdir(\".\") )"
   ]
  },
  {
   "cell_type": "code",
   "execution_count": 119,
   "metadata": {},
   "outputs": [
    {
     "name": "stdout",
     "output_type": "stream",
     "text": [
      "String[\".git\", \"intro_to_julia.ipynb\", \".ipynb_checkpoints\", \"Julia-cheatsheet.pdf\", \"Julia_introduction_slides.pdf\", \"Julia_introduction_slides.pptx\", \"julia.parexamples\", \"julia_plotting.ipynb\", \"README.md\", \"test-arrays.txt\", \"test-write.txt\", \"Type-hierarchy-for-julia-numbers.png\"]\n"
     ]
    }
   ],
   "source": [
    "rm(\"./test-write-bk.txt\")\n",
    "println(readdir(\".\") )"
   ]
  },
  {
   "cell_type": "markdown",
   "metadata": {},
   "source": [
    "## 4. Other Features in Julia"
   ]
  },
  {
   "cell_type": "markdown",
   "metadata": {},
   "source": [
    "### Plotting\n",
    "\n",
    "Plots.jl is a plotting metapackage that provides a unified API supporting different backends."
   ]
  },
  {
   "cell_type": "code",
   "execution_count": 120,
   "metadata": {},
   "outputs": [
    {
     "name": "stderr",
     "output_type": "stream",
     "text": [
      "\u001b[1m\u001b[36mINFO: \u001b[39m\u001b[22m\u001b[36mPackage Plots is already installed\n",
      "\u001b[39m\u001b[1m\u001b[36mINFO: \u001b[39m\u001b[22m\u001b[36mMETADATA is out-of-date — you may not have the latest version of Plots\n",
      "\u001b[39m\u001b[1m\u001b[36mINFO: \u001b[39m\u001b[22m\u001b[36mUse `Pkg.update()` to get the latest versions of your packages\n",
      "\u001b[39m"
     ]
    }
   ],
   "source": [
    "Pkg.add(\"Plots\")\n"
   ]
  },
  {
   "cell_type": "code",
   "execution_count": 121,
   "metadata": {},
   "outputs": [
    {
     "data": {
      "image/svg+xml": [
       "<?xml version=\"1.0\" encoding=\"utf-8\"?>\n",
       "<svg xmlns=\"http://www.w3.org/2000/svg\" xmlns:xlink=\"http://www.w3.org/1999/xlink\" width=\"600\" height=\"400\" viewBox=\"0 0 600 400\">\n",
       "<defs>\n",
       "  <clipPath id=\"clip1100\">\n",
       "    <rect x=\"0\" y=\"0\" width=\"600\" height=\"400\"/>\n",
       "  </clipPath>\n",
       "</defs>\n",
       "<polygon clip-path=\"url(#clip1100)\" points=\"\n",
       "0,400 600,400 600,0 0,0 \n",
       "  \" fill=\"#ffffff\" fill-opacity=\"1\"/>\n",
       "<defs>\n",
       "  <clipPath id=\"clip1101\">\n",
       "    <rect x=\"120\" y=\"0\" width=\"421\" height=\"400\"/>\n",
       "  </clipPath>\n",
       "</defs>\n",
       "<polygon clip-path=\"url(#clip1100)\" points=\"\n",
       "32.4745,375.869 580.315,375.869 580.315,31.4961 32.4745,31.4961 \n",
       "  \" fill=\"#ffffff\" fill-opacity=\"1\"/>\n",
       "<defs>\n",
       "  <clipPath id=\"clip1102\">\n",
       "    <rect x=\"32\" y=\"31\" width=\"549\" height=\"345\"/>\n",
       "  </clipPath>\n",
       "</defs>\n",
       "<polyline clip-path=\"url(#clip1102)\" style=\"stroke:#000000; stroke-width:0.5; stroke-opacity:0.1; fill:none\" points=\"\n",
       "  32.4745,375.869 32.4745,31.4961 \n",
       "  \"/>\n",
       "<polyline clip-path=\"url(#clip1102)\" style=\"stroke:#000000; stroke-width:0.5; stroke-opacity:0.1; fill:none\" points=\"\n",
       "  169.435,375.869 169.435,31.4961 \n",
       "  \"/>\n",
       "<polyline clip-path=\"url(#clip1102)\" style=\"stroke:#000000; stroke-width:0.5; stroke-opacity:0.1; fill:none\" points=\"\n",
       "  306.395,375.869 306.395,31.4961 \n",
       "  \"/>\n",
       "<polyline clip-path=\"url(#clip1102)\" style=\"stroke:#000000; stroke-width:0.5; stroke-opacity:0.1; fill:none\" points=\"\n",
       "  443.355,375.869 443.355,31.4961 \n",
       "  \"/>\n",
       "<polyline clip-path=\"url(#clip1102)\" style=\"stroke:#000000; stroke-width:0.5; stroke-opacity:0.1; fill:none\" points=\"\n",
       "  580.315,375.869 580.315,31.4961 \n",
       "  \"/>\n",
       "<polyline clip-path=\"url(#clip1102)\" style=\"stroke:#000000; stroke-width:0.5; stroke-opacity:0.1; fill:none\" points=\"\n",
       "  32.4745,334.042 580.315,334.042 \n",
       "  \"/>\n",
       "<polyline clip-path=\"url(#clip1102)\" style=\"stroke:#000000; stroke-width:0.5; stroke-opacity:0.1; fill:none\" points=\"\n",
       "  32.4745,257.809 580.315,257.809 \n",
       "  \"/>\n",
       "<polyline clip-path=\"url(#clip1102)\" style=\"stroke:#000000; stroke-width:0.5; stroke-opacity:0.1; fill:none\" points=\"\n",
       "  32.4745,181.576 580.315,181.576 \n",
       "  \"/>\n",
       "<polyline clip-path=\"url(#clip1102)\" style=\"stroke:#000000; stroke-width:0.5; stroke-opacity:0.1; fill:none\" points=\"\n",
       "  32.4745,105.343 580.315,105.343 \n",
       "  \"/>\n",
       "<polyline clip-path=\"url(#clip1100)\" style=\"stroke:#000000; stroke-width:1; stroke-opacity:1; fill:none\" points=\"\n",
       "  32.4745,375.869 580.315,375.869 \n",
       "  \"/>\n",
       "<polyline clip-path=\"url(#clip1100)\" style=\"stroke:#000000; stroke-width:1; stroke-opacity:1; fill:none\" points=\"\n",
       "  32.4745,375.869 32.4745,31.4961 \n",
       "  \"/>\n",
       "<polyline clip-path=\"url(#clip1100)\" style=\"stroke:#000000; stroke-width:1; stroke-opacity:1; fill:none\" points=\"\n",
       "  32.4745,375.869 32.4745,370.703 \n",
       "  \"/>\n",
       "<polyline clip-path=\"url(#clip1100)\" style=\"stroke:#000000; stroke-width:1; stroke-opacity:1; fill:none\" points=\"\n",
       "  169.435,375.869 169.435,370.703 \n",
       "  \"/>\n",
       "<polyline clip-path=\"url(#clip1100)\" style=\"stroke:#000000; stroke-width:1; stroke-opacity:1; fill:none\" points=\"\n",
       "  306.395,375.869 306.395,370.703 \n",
       "  \"/>\n",
       "<polyline clip-path=\"url(#clip1100)\" style=\"stroke:#000000; stroke-width:1; stroke-opacity:1; fill:none\" points=\"\n",
       "  443.355,375.869 443.355,370.703 \n",
       "  \"/>\n",
       "<polyline clip-path=\"url(#clip1100)\" style=\"stroke:#000000; stroke-width:1; stroke-opacity:1; fill:none\" points=\"\n",
       "  580.315,375.869 580.315,370.703 \n",
       "  \"/>\n",
       "<polyline clip-path=\"url(#clip1100)\" style=\"stroke:#000000; stroke-width:1; stroke-opacity:1; fill:none\" points=\"\n",
       "  32.4745,334.042 40.6921,334.042 \n",
       "  \"/>\n",
       "<polyline clip-path=\"url(#clip1100)\" style=\"stroke:#000000; stroke-width:1; stroke-opacity:1; fill:none\" points=\"\n",
       "  32.4745,257.809 40.6921,257.809 \n",
       "  \"/>\n",
       "<polyline clip-path=\"url(#clip1100)\" style=\"stroke:#000000; stroke-width:1; stroke-opacity:1; fill:none\" points=\"\n",
       "  32.4745,181.576 40.6921,181.576 \n",
       "  \"/>\n",
       "<polyline clip-path=\"url(#clip1100)\" style=\"stroke:#000000; stroke-width:1; stroke-opacity:1; fill:none\" points=\"\n",
       "  32.4745,105.343 40.6921,105.343 \n",
       "  \"/>\n",
       "<g clip-path=\"url(#clip1100)\">\n",
       "<text style=\"fill:#000000; fill-opacity:1; font-family:Arial,Helvetica Neue,Helvetica,sans-serif; font-size:12; text-anchor:middle;\" transform=\"rotate(0, 32.4745, 389.669)\" x=\"32.4745\" y=\"389.669\">1</text>\n",
       "</g>\n",
       "<g clip-path=\"url(#clip1100)\">\n",
       "<text style=\"fill:#000000; fill-opacity:1; font-family:Arial,Helvetica Neue,Helvetica,sans-serif; font-size:12; text-anchor:middle;\" transform=\"rotate(0, 169.435, 389.669)\" x=\"169.435\" y=\"389.669\">2</text>\n",
       "</g>\n",
       "<g clip-path=\"url(#clip1100)\">\n",
       "<text style=\"fill:#000000; fill-opacity:1; font-family:Arial,Helvetica Neue,Helvetica,sans-serif; font-size:12; text-anchor:middle;\" transform=\"rotate(0, 306.395, 389.669)\" x=\"306.395\" y=\"389.669\">3</text>\n",
       "</g>\n",
       "<g clip-path=\"url(#clip1100)\">\n",
       "<text style=\"fill:#000000; fill-opacity:1; font-family:Arial,Helvetica Neue,Helvetica,sans-serif; font-size:12; text-anchor:middle;\" transform=\"rotate(0, 443.355, 389.669)\" x=\"443.355\" y=\"389.669\">4</text>\n",
       "</g>\n",
       "<g clip-path=\"url(#clip1100)\">\n",
       "<text style=\"fill:#000000; fill-opacity:1; font-family:Arial,Helvetica Neue,Helvetica,sans-serif; font-size:12; text-anchor:middle;\" transform=\"rotate(0, 580.315, 389.669)\" x=\"580.315\" y=\"389.669\">5</text>\n",
       "</g>\n",
       "<g clip-path=\"url(#clip1100)\">\n",
       "<text style=\"fill:#000000; fill-opacity:1; font-family:Arial,Helvetica Neue,Helvetica,sans-serif; font-size:12; text-anchor:end;\" transform=\"rotate(0, 26.4745, 338.542)\" x=\"26.4745\" y=\"338.542\">0.2</text>\n",
       "</g>\n",
       "<g clip-path=\"url(#clip1100)\">\n",
       "<text style=\"fill:#000000; fill-opacity:1; font-family:Arial,Helvetica Neue,Helvetica,sans-serif; font-size:12; text-anchor:end;\" transform=\"rotate(0, 26.4745, 262.309)\" x=\"26.4745\" y=\"262.309\">0.4</text>\n",
       "</g>\n",
       "<g clip-path=\"url(#clip1100)\">\n",
       "<text style=\"fill:#000000; fill-opacity:1; font-family:Arial,Helvetica Neue,Helvetica,sans-serif; font-size:12; text-anchor:end;\" transform=\"rotate(0, 26.4745, 186.076)\" x=\"26.4745\" y=\"186.076\">0.6</text>\n",
       "</g>\n",
       "<g clip-path=\"url(#clip1100)\">\n",
       "<text style=\"fill:#000000; fill-opacity:1; font-family:Arial,Helvetica Neue,Helvetica,sans-serif; font-size:12; text-anchor:end;\" transform=\"rotate(0, 26.4745, 109.843)\" x=\"26.4745\" y=\"109.843\">0.8</text>\n",
       "</g>\n",
       "<g clip-path=\"url(#clip1100)\">\n",
       "<text style=\"fill:#000000; fill-opacity:1; font-family:Arial,Helvetica Neue,Helvetica,sans-serif; font-size:21; text-anchor:middle;\" transform=\"rotate(0, 306.395, 18)\" x=\"306.395\" y=\"18\">Plot with Plotly.jl</text>\n",
       "</g>\n",
       "<polyline clip-path=\"url(#clip1102)\" style=\"stroke:#009af9; stroke-width:5; stroke-opacity:1; fill:none\" points=\"\n",
       "  32.4745,222.266 169.435,31.4961 306.395,103.612 443.355,183.558 580.315,275.158 \n",
       "  \"/>\n",
       "<polyline clip-path=\"url(#clip1102)\" style=\"stroke:#e26f46; stroke-width:5; stroke-opacity:1; fill:none\" points=\"\n",
       "  32.4745,375.869 169.435,137.235 306.395,198.978 443.355,371.913 580.315,209.414 \n",
       "  \"/>\n",
       "<polyline clip-path=\"url(#clip1102)\" style=\"stroke:#3da44d; stroke-width:5; stroke-opacity:1; fill:none\" points=\"\n",
       "  32.4745,47.3337 169.435,46.6942 306.395,190.246 443.355,159.164 580.315,38.4635 \n",
       "  \"/>\n",
       "<polyline clip-path=\"url(#clip1102)\" style=\"stroke:#c271d2; stroke-width:5; stroke-opacity:1; fill:none\" points=\"\n",
       "  32.4745,235.77 169.435,142.692 306.395,302.923 443.355,93.5063 580.315,183.449 \n",
       "  \"/>\n",
       "<polyline clip-path=\"url(#clip1102)\" style=\"stroke:#ac8d18; stroke-width:5; stroke-opacity:1; fill:none\" points=\"\n",
       "  32.4745,242.742 169.435,172.559 306.395,320.461 443.355,302.485 580.315,326.364 \n",
       "  \"/>\n",
       "<polygon clip-path=\"url(#clip1100)\" points=\"\n",
       "489.608,143.096 562.315,143.096 562.315,52.3761 489.608,52.3761 \n",
       "  \" fill=\"#ffffff\" fill-opacity=\"1\"/>\n",
       "<polyline clip-path=\"url(#clip1100)\" style=\"stroke:#000000; stroke-width:1; stroke-opacity:1; fill:none\" points=\"\n",
       "  489.608,143.096 562.315,143.096 562.315,52.3761 489.608,52.3761 489.608,143.096 \n",
       "  \"/>\n",
       "<polyline clip-path=\"url(#clip1100)\" style=\"stroke:#009af9; stroke-width:5; stroke-opacity:1; fill:none\" points=\"\n",
       "  495.608,67.4961 531.608,67.4961 \n",
       "  \"/>\n",
       "<g clip-path=\"url(#clip1100)\">\n",
       "<text style=\"fill:#000000; fill-opacity:1; font-family:Arial,Helvetica Neue,Helvetica,sans-serif; font-size:12; text-anchor:start;\" transform=\"rotate(0, 537.608, 71.9961)\" x=\"537.608\" y=\"71.9961\">y1</text>\n",
       "</g>\n",
       "<polyline clip-path=\"url(#clip1100)\" style=\"stroke:#e26f46; stroke-width:5; stroke-opacity:1; fill:none\" points=\"\n",
       "  495.608,82.6161 531.608,82.6161 \n",
       "  \"/>\n",
       "<g clip-path=\"url(#clip1100)\">\n",
       "<text style=\"fill:#000000; fill-opacity:1; font-family:Arial,Helvetica Neue,Helvetica,sans-serif; font-size:12; text-anchor:start;\" transform=\"rotate(0, 537.608, 87.1161)\" x=\"537.608\" y=\"87.1161\">y2</text>\n",
       "</g>\n",
       "<polyline clip-path=\"url(#clip1100)\" style=\"stroke:#3da44d; stroke-width:5; stroke-opacity:1; fill:none\" points=\"\n",
       "  495.608,97.7361 531.608,97.7361 \n",
       "  \"/>\n",
       "<g clip-path=\"url(#clip1100)\">\n",
       "<text style=\"fill:#000000; fill-opacity:1; font-family:Arial,Helvetica Neue,Helvetica,sans-serif; font-size:12; text-anchor:start;\" transform=\"rotate(0, 537.608, 102.236)\" x=\"537.608\" y=\"102.236\">y3</text>\n",
       "</g>\n",
       "<polyline clip-path=\"url(#clip1100)\" style=\"stroke:#c271d2; stroke-width:5; stroke-opacity:1; fill:none\" points=\"\n",
       "  495.608,112.856 531.608,112.856 \n",
       "  \"/>\n",
       "<g clip-path=\"url(#clip1100)\">\n",
       "<text style=\"fill:#000000; fill-opacity:1; font-family:Arial,Helvetica Neue,Helvetica,sans-serif; font-size:12; text-anchor:start;\" transform=\"rotate(0, 537.608, 117.356)\" x=\"537.608\" y=\"117.356\">y4</text>\n",
       "</g>\n",
       "<polyline clip-path=\"url(#clip1100)\" style=\"stroke:#ac8d18; stroke-width:5; stroke-opacity:1; fill:none\" points=\"\n",
       "  495.608,127.976 531.608,127.976 \n",
       "  \"/>\n",
       "<g clip-path=\"url(#clip1100)\">\n",
       "<text style=\"fill:#000000; fill-opacity:1; font-family:Arial,Helvetica Neue,Helvetica,sans-serif; font-size:12; text-anchor:start;\" transform=\"rotate(0, 537.608, 132.476)\" x=\"537.608\" y=\"132.476\">y5</text>\n",
       "</g>\n",
       "</svg>\n"
      ]
     },
     "execution_count": 121,
     "metadata": {},
     "output_type": "execute_result"
    }
   ],
   "source": [
    "using Plots\n",
    "#plotly() # Choose the Plotly.jl backend for web interactivity\n",
    "plot(rand(5,5),linewidth=5,title=\"Plot with Plotly.jl\")"
   ]
  },
  {
   "cell_type": "code",
   "execution_count": 122,
   "metadata": {},
   "outputs": [
    {
     "name": "stdout",
     "output_type": "stream",
     "text": [
      "2 required packages:\n",
      " - IJulia                        1.8.0\n",
      " - Plots                         0.17.0\n",
      "28 additional packages:\n",
      " - BinDeps                       0.8.8\n",
      " - BinaryProvider                0.3.0\n",
      " - ColorTypes                    0.6.7\n",
      " - Colors                        0.8.2\n",
      " - Compat                        0.64.0\n",
      " - Conda                         0.7.1\n",
      " - Contour                       0.4.0\n",
      " - DataStructures                0.8.1\n",
      " - FixedPointNumbers             0.4.6\n",
      " - GR                            0.31.0\n",
      " - JSON                          0.17.2\n",
      " - MbedTLS                       0.5.8\n",
      " - Measures                      0.2.0\n",
      " - Missings                      0.2.9\n",
      " - NaNMath                       0.3.1\n",
      " - Nullables                     0.0.5\n",
      " - PlotThemes                    0.2.0\n",
      " - PlotUtils                     0.4.4\n",
      " - RecipesBase                   0.3.1\n",
      " - Reexport                      0.1.0\n",
      " - Requires                      0.4.3\n",
      " - SHA                           0.5.7\n",
      " - Showoff                       0.1.1\n",
      " - SortingAlgorithms             0.2.1\n",
      " - StaticArrays                  0.7.0\n",
      " - StatsBase                     0.22.0\n",
      " - URIParser                     0.3.1\n",
      " - ZMQ                           0.6.0\n"
     ]
    }
   ],
   "source": [
    "Pkg.status()"
   ]
  },
  {
   "cell_type": "markdown",
   "metadata": {},
   "source": [
    "### Metaprogramming: The `quote\\end` expression\n",
    "\n",
    "There are two stages in Julia code execution:\n",
    "- Parsing\n",
    "\n",
    "- Evaluation\n",
    "\n",
    "Metaprogramming means modifying the code after it has been parsed but before actual evaluation. "
   ]
  },
  {
   "cell_type": "code",
   "execution_count": 123,
   "metadata": {},
   "outputs": [
    {
     "data": {
      "text/plain": [
       ":a"
      ]
     },
     "execution_count": 123,
     "metadata": {},
     "output_type": "execute_result"
    }
   ],
   "source": [
    "a = quote\n",
    "r=3\n",
    "t=4\n",
    "h=sqrt(r^2+t^2)    \n",
    "end\n",
    ":a"
   ]
  },
  {
   "cell_type": "code",
   "execution_count": 124,
   "metadata": {},
   "outputs": [
    {
     "data": {
      "text/plain": [
       "5.0"
      ]
     },
     "execution_count": 124,
     "metadata": {},
     "output_type": "execute_result"
    }
   ],
   "source": [
    "eval(a)"
   ]
  },
  {
   "cell_type": "code",
   "execution_count": 125,
   "metadata": {},
   "outputs": [
    {
     "data": {
      "text/plain": [
       ":(h = sqrt(r ^ 2 + t ^ 2))"
      ]
     },
     "execution_count": 125,
     "metadata": {},
     "output_type": "execute_result"
    }
   ],
   "source": [
    "a.args[end]"
   ]
  },
  {
   "cell_type": "code",
   "execution_count": 126,
   "metadata": {},
   "outputs": [
    {
     "data": {
      "text/plain": [
       "3-element Array{Symbol,1}:\n",
       " :head\n",
       " :args\n",
       " :typ "
      ]
     },
     "execution_count": 126,
     "metadata": {},
     "output_type": "execute_result"
    }
   ],
   "source": [
    "fieldnames(a)"
   ]
  },
  {
   "cell_type": "code",
   "execution_count": 127,
   "metadata": {},
   "outputs": [
    {
     "data": {
      "text/plain": [
       "12"
      ]
     },
     "execution_count": 127,
     "metadata": {},
     "output_type": "execute_result"
    }
   ],
   "source": [
    "a.args[end]=:(h=r*t)\n",
    "eval(a)"
   ]
  },
  {
   "cell_type": "markdown",
   "metadata": {},
   "source": [
    "### Macros\n",
    "\n",
    "Macros provide a method to include generated code in the final body of a program. A macro maps a tuple of arguments to a returned expression, and the resulting expression is compiled directly rather than executed at runtime."
   ]
  },
  {
   "cell_type": "code",
   "execution_count": 128,
   "metadata": {},
   "outputs": [
    {
     "name": "stdout",
     "output_type": "stream",
     "text": [
      "Hello, world!\n"
     ]
    }
   ],
   "source": [
    "macro sayhello()\n",
    "   return :( println(\"Hello, world!\") )\n",
    "end\n",
    "\n",
    "@sayhello "
   ]
  },
  {
   "cell_type": "markdown",
   "metadata": {},
   "source": [
    "## 5. References and More Online Resources\n",
    "\n",
    "1. [Julia Documentation](https://docs.julialang.org/en/stable/index.html)\n",
    "2. http://samuelcolvin.github.io/JuliaByExample/\n",
    "3. http://math.mit.edu/~stevenj/Julia-cheatsheet.pdf\n",
    "4. http://courses.csail.mit.edu/18.337/2017/\n",
    "5. Beginning Julia Programming: For Engineers and Scientists, Sandeep Nagar, 2017 [https://link.springer.com/book/10.1007%2F978-1-4842-3171-5]"
   ]
  }
 ],
 "metadata": {
  "kernelspec": {
   "display_name": "Julia 0.6.2",
   "language": "julia",
   "name": "julia-0.6"
  },
  "language_info": {
   "file_extension": ".jl",
   "mimetype": "application/julia",
   "name": "julia",
   "version": "0.6.2"
  }
 },
 "nbformat": 4,
 "nbformat_minor": 2
}
